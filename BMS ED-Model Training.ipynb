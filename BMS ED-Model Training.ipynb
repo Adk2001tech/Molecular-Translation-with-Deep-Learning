{
 "cells": [
  {
   "cell_type": "markdown",
   "metadata": {
    "id": "intellectual-concert",
    "papermill": {
     "duration": 0.034029,
     "end_time": "2021-05-10T03:01:57.223891",
     "exception": false,
     "start_time": "2021-05-10T03:01:57.189862",
     "status": "completed"
    },
    "tags": []
   },
   "source": [
    "# Imports"
   ]
  },
  {
   "cell_type": "code",
   "execution_count": 1,
   "metadata": {
    "execution": {
     "iopub.execute_input": "2021-05-10T03:01:57.310592Z",
     "iopub.status.busy": "2021-05-10T03:01:57.298197Z",
     "iopub.status.idle": "2021-05-10T03:02:13.232183Z",
     "shell.execute_reply": "2021-05-10T03:02:13.232764Z"
    },
    "id": "environmental-wireless",
    "outputId": "c2c22b56-7400-45fe-dcd6-cea68846f282",
    "papermill": {
     "duration": 15.975856,
     "end_time": "2021-05-10T03:02:13.233063",
     "exception": false,
     "start_time": "2021-05-10T03:01:57.257207",
     "status": "completed"
    },
    "tags": []
   },
   "outputs": [],
   "source": [
    "!pip install -q efficientnet\n",
    "import efficientnet.tfkeras as efn"
   ]
  },
  {
   "cell_type": "code",
   "execution_count": 2,
   "metadata": {
    "_cell_guid": "b1076dfc-b9ad-4769-8c92-a6c4dae69d19",
    "_uuid": "8f2839f25d086af736a60e9eeb907d3b93b6e0e5",
    "execution": {
     "iopub.execute_input": "2021-05-10T03:02:13.291534Z",
     "iopub.status.busy": "2021-05-10T03:02:13.290780Z",
     "iopub.status.idle": "2021-05-10T03:02:13.298614Z",
     "shell.execute_reply": "2021-05-10T03:02:13.298036Z"
    },
    "id": "second-fabric",
    "papermill": {
     "duration": 0.039696,
     "end_time": "2021-05-10T03:02:13.298769",
     "exception": false,
     "start_time": "2021-05-10T03:02:13.259073",
     "status": "completed"
    },
    "tags": []
   },
   "outputs": [],
   "source": [
    "import pandas as pd\n",
    "import numpy as np\n",
    "import tensorflow as tf\n",
    "import matplotlib.pyplot as plt\n",
    "from tqdm.notebook import tqdm\n",
    "import os, io, pickle, random\n",
    " \n",
    "import tensorflow as tf\n",
    "import tensorflow.keras.backend as K\n",
    "from kaggle_datasets import KaggleDatasets\n",
    "from tensorflow.keras.mixed_precision import experimental as mixed_precision"
   ]
  },
  {
   "cell_type": "markdown",
   "metadata": {
    "id": "sudden-joint",
    "papermill": {
     "duration": 0.025312,
     "end_time": "2021-05-10T03:02:13.349968",
     "exception": false,
     "start_time": "2021-05-10T03:02:13.324656",
     "status": "completed"
    },
    "tags": []
   },
   "source": [
    "## Seed "
   ]
  },
  {
   "cell_type": "code",
   "execution_count": 3,
   "metadata": {
    "execution": {
     "iopub.execute_input": "2021-05-10T03:02:13.407110Z",
     "iopub.status.busy": "2021-05-10T03:02:13.406432Z",
     "iopub.status.idle": "2021-05-10T03:02:13.408507Z",
     "shell.execute_reply": "2021-05-10T03:02:13.408962Z"
    },
    "id": "outdoor-empire",
    "papermill": {
     "duration": 0.033266,
     "end_time": "2021-05-10T03:02:13.409133",
     "exception": false,
     "start_time": "2021-05-10T03:02:13.375867",
     "status": "completed"
    },
    "tags": []
   },
   "outputs": [],
   "source": [
    "# seed everything\n",
    "SEED = 256\n",
    "os.environ['PYTHONHASHSEED'] = str(SEED)\n",
    "random.seed(SEED)\n",
    "np.random.seed(SEED)\n",
    "tf.random.set_seed(SEED)"
   ]
  },
  {
   "cell_type": "markdown",
   "metadata": {
    "id": "earned-religion",
    "papermill": {
     "duration": 0.02562,
     "end_time": "2021-05-10T03:02:13.460814",
     "exception": false,
     "start_time": "2021-05-10T03:02:13.435194",
     "status": "completed"
    },
    "tags": []
   },
   "source": [
    "# Hardware config"
   ]
  },
  {
   "cell_type": "code",
   "execution_count": 4,
   "metadata": {
    "execution": {
     "iopub.execute_input": "2021-05-10T03:02:13.515828Z",
     "iopub.status.busy": "2021-05-10T03:02:13.515162Z",
     "iopub.status.idle": "2021-05-10T03:02:19.069413Z",
     "shell.execute_reply": "2021-05-10T03:02:19.068860Z"
    },
    "id": "charged-tender",
    "outputId": "2c0ff1d2-3c35-45dd-a5a3-8ef5d54f71d4",
    "papermill": {
     "duration": 5.582905,
     "end_time": "2021-05-10T03:02:19.069564",
     "exception": false,
     "start_time": "2021-05-10T03:02:13.486659",
     "status": "completed"
    },
    "tags": []
   },
   "outputs": [
    {
     "name": "stdout",
     "output_type": "stream",
     "text": [
      "Running on TPU: grpc://10.0.0.2:8470\n",
      "Compute dtype: bfloat16\n",
      "Variable dtype: float32\n",
      "Running on 8 replicas\n",
      "REPLICAS: 8\n"
     ]
    }
   ],
   "source": [
    "# Detect hardware, set appropriate distribution strategy (GPU/TPU)\n",
    "def auto_select_accelerator():\n",
    "    try:\n",
    "        tpu = tf.distribute.cluster_resolver.TPUClusterResolver()\n",
    "        tf.config.experimental_connect_to_cluster(tpu)\n",
    "        tf.tpu.experimental.initialize_tpu_system(tpu)\n",
    "        strategy = tf.distribute.experimental.TPUStrategy(tpu)\n",
    "        print(\"Running on TPU:\", tpu.master())\n",
    "        \n",
    "        # set half precision policy\n",
    "        # Mixed precision is the use of both 16-bit and 32-bit floating-point types\n",
    "        # in a model during training to make it run faster and use less memory.\n",
    "        mixed_precision.set_policy('mixed_bfloat16' if TPU else 'float32')\n",
    "        print(f'Compute dtype: {mixed_precision.global_policy().compute_dtype}')\n",
    "        print(f'Variable dtype: {mixed_precision.global_policy().variable_dtype}')\n",
    "        \n",
    "        # enable XLA optmizations\n",
    "        tf.config.optimizer.set_jit(True)\n",
    "    except ValueError:\n",
    "        strategy = tf.distribute.get_strategy()\n",
    "    print(f\"Running on {strategy.num_replicas_in_sync} replicas\")\n",
    "    \n",
    "    return strategy\n",
    "\n",
    "TPU=True\n",
    "strategy = auto_select_accelerator()\n",
    "REPLICAS = strategy.num_replicas_in_sync\n",
    "print(f'REPLICAS: {REPLICAS}')"
   ]
  },
  {
   "cell_type": "code",
   "execution_count": 5,
   "metadata": {
    "execution": {
     "iopub.execute_input": "2021-05-10T03:02:19.131597Z",
     "iopub.status.busy": "2021-05-10T03:02:19.130558Z",
     "iopub.status.idle": "2021-05-10T03:02:19.133829Z",
     "shell.execute_reply": "2021-05-10T03:02:19.133339Z"
    },
    "id": "romance-drove",
    "papermill": {
     "duration": 0.037419,
     "end_time": "2021-05-10T03:02:19.133980",
     "exception": false,
     "start_time": "2021-05-10T03:02:19.096561",
     "status": "completed"
    },
    "tags": []
   },
   "outputs": [],
   "source": [
    "DEBUG = False\n",
    "\n",
    "# image resolution\n",
    "IMG_HEIGHT = 300\n",
    "IMG_WIDTH = 480\n",
    "N_CHANNELS = 3\n",
    "# maximum InChI length is 200 to prevent too much padding\n",
    "MAX_INCHI_LEN = 200\n",
    "\n",
    "# batch sizes\n",
    "BATCH_SIZE_BASE = 5 if DEBUG else (18 if TPU else 24)\n",
    "\n",
    "BATCH_SIZE = BATCH_SIZE_BASE * REPLICAS\n",
    "BATCH_SIZE_DEBUG = 2\n",
    "\n",
    "# target data type, bfloat16 when using TPU to improve throughput\n",
    "TARGET_DTYPE = tf.bfloat16 if TPU else tf.float32\n",
    " # minimal memory usage of labels\n",
    "LABEL_DTYPE= tf.uint8\n",
    "\n",
    "# 100K validation images are used\n",
    "VAL_SIZE = int(1e3) if DEBUG else int(100e3)\n",
    "VAL_STEPS = VAL_SIZE // BATCH_SIZE\n",
    "\n",
    "\n",
    "IMAGE_CH3 = tf.constant([0.0, 0.0, 0.0], dtype=tf.float32)"
   ]
  },
  {
   "cell_type": "markdown",
   "metadata": {
    "id": "defined-pierre",
    "papermill": {
     "duration": 0.035281,
     "end_time": "2021-05-10T03:02:19.199790",
     "exception": false,
     "start_time": "2021-05-10T03:02:19.164509",
     "status": "completed"
    },
    "tags": []
   },
   "source": [
    "# Dataset\n",
    "* voc dict"
   ]
  },
  {
   "cell_type": "code",
   "execution_count": 6,
   "metadata": {
    "execution": {
     "iopub.execute_input": "2021-05-10T03:02:19.280617Z",
     "iopub.status.busy": "2021-05-10T03:02:19.279910Z",
     "iopub.status.idle": "2021-05-10T03:02:19.298969Z",
     "shell.execute_reply": "2021-05-10T03:02:19.298282Z"
    },
    "id": "consistent-capture",
    "papermill": {
     "duration": 0.057806,
     "end_time": "2021-05-10T03:02:19.299124",
     "exception": false,
     "start_time": "2021-05-10T03:02:19.241318",
     "status": "completed"
    },
    "tags": []
   },
   "outputs": [],
   "source": [
    "# dictionary to translate a character to the integer encoding\n",
    "with open('../input/bms300x480-image-data/vocabulary_to_int.pkl', 'rb') as p:\n",
    "    vocabulary_to_int= pickle.load(p)\n",
    "    \n",
    "# dictionary to decode an integer encoded character back to the character\n",
    "with open('../input/bms300x480-image-data/int_to_vocabulary.pkl', 'rb') as p:\n",
    "    int_to_vocabulary= pickle.load(p)"
   ]
  },
  {
   "cell_type": "code",
   "execution_count": 7,
   "metadata": {
    "execution": {
     "iopub.execute_input": "2021-05-10T03:02:19.358888Z",
     "iopub.status.busy": "2021-05-10T03:02:19.358156Z",
     "iopub.status.idle": "2021-05-10T03:02:19.361887Z",
     "shell.execute_reply": "2021-05-10T03:02:19.362898Z"
    },
    "id": "homeless-doctor",
    "outputId": "5491ab11-cecc-4d6e-f44c-0e6c96b8832c",
    "papermill": {
     "duration": 0.036563,
     "end_time": "2021-05-10T03:02:19.363070",
     "exception": false,
     "start_time": "2021-05-10T03:02:19.326507",
     "status": "completed"
    },
    "tags": []
   },
   "outputs": [
    {
     "name": "stdout",
     "output_type": "stream",
     "text": [
      "VOCAB_SIZE: 41\n"
     ]
    }
   ],
   "source": [
    "# configure model\n",
    "VOCAB_SIZE = len(vocabulary_to_int.values())\n",
    "SEQ_LEN_OUT = MAX_INCHI_LEN\n",
    "DECODER_DIM = 512\n",
    "ATTENTION_UNITS = 512\n",
    "\n",
    "print(f'VOCAB_SIZE: {VOCAB_SIZE}')"
   ]
  },
  {
   "cell_type": "markdown",
   "metadata": {
    "id": "expanded-supervision",
    "papermill": {
     "duration": 0.026768,
     "end_time": "2021-05-10T03:02:19.416759",
     "exception": false,
     "start_time": "2021-05-10T03:02:19.389991",
     "status": "completed"
    },
    "tags": []
   },
   "source": [
    "* decode TFRecord"
   ]
  },
  {
   "cell_type": "code",
   "execution_count": 8,
   "metadata": {
    "execution": {
     "iopub.execute_input": "2021-05-10T03:02:19.479128Z",
     "iopub.status.busy": "2021-05-10T03:02:19.478470Z",
     "iopub.status.idle": "2021-05-10T03:02:19.481686Z",
     "shell.execute_reply": "2021-05-10T03:02:19.481117Z"
    },
    "id": "thrown-reform",
    "papermill": {
     "duration": 0.038101,
     "end_time": "2021-05-10T03:02:19.481820",
     "exception": false,
     "start_time": "2021-05-10T03:02:19.443719",
     "status": "completed"
    },
    "tags": []
   },
   "outputs": [],
   "source": [
    "def decode_tfrecord(record_bytes):\n",
    "    feature= tf.io.parse_single_example(record_bytes,{\n",
    "        'image': tf.io.FixedLenFeature([], tf.string),\n",
    "        'InChI': tf.io.FixedLenFeature([MAX_INCHI_LEN], tf.int64)\n",
    "    })\n",
    "    # decode the PNG and explicitly reshape to image size (required on TPU)\n",
    "    image = tf.io.decode_png(feature['image'])    \n",
    "    image = tf.reshape(image, [IMG_HEIGHT, IMG_WIDTH, 1])\n",
    "    # normalize according to ImageNet mean and std\n",
    "    image = tf.cast(image, tf.float32)  / 255.0\n",
    "    image = (image - IMAGE_CH3)\n",
    "    \n",
    "    if TPU: # if running on TPU image needs to be cast to bfloat16\n",
    "        image = tf.cast(image, TARGET_DTYPE)\n",
    "    \n",
    "    InChI = tf.reshape(feature['InChI'], [MAX_INCHI_LEN])\n",
    "    InChI = tf.cast(InChI, LABEL_DTYPE)\n",
    "    #InChI= tf.one_hot(InChI, depth= 41)\n",
    "    \n",
    "    return (1.0-image), InChI"
   ]
  },
  {
   "cell_type": "markdown",
   "metadata": {
    "id": "focused-insider",
    "papermill": {
     "duration": 0.027821,
     "end_time": "2021-05-10T03:02:19.536662",
     "exception": false,
     "start_time": "2021-05-10T03:02:19.508841",
     "status": "completed"
    },
    "tags": []
   },
   "source": [
    "# TPU-Data Pipeline"
   ]
  },
  {
   "cell_type": "code",
   "execution_count": 9,
   "metadata": {
    "execution": {
     "iopub.execute_input": "2021-05-10T03:02:19.604923Z",
     "iopub.status.busy": "2021-05-10T03:02:19.597862Z",
     "iopub.status.idle": "2021-05-10T03:02:19.975567Z",
     "shell.execute_reply": "2021-05-10T03:02:19.974908Z"
    },
    "id": "complimentary-delivery",
    "papermill": {
     "duration": 0.411779,
     "end_time": "2021-05-10T03:02:19.975730",
     "exception": false,
     "start_time": "2021-05-10T03:02:19.563951",
     "status": "completed"
    },
    "tags": []
   },
   "outputs": [
    {
     "data": {
      "text/plain": [
       "'gs://kds-09f49a72bf080607deaed5b8ae6ca069818737e04bbbe3d2341a0f53'"
      ]
     },
     "execution_count": 9,
     "metadata": {},
     "output_type": "execute_result"
    }
   ],
   "source": [
    "DATASET_NAME= 'bms300x480-image-data'\n",
    "GCS_DS_PATH= KaggleDatasets().get_gcs_path(DATASET_NAME) if TPU else '../input/bmstfrecord-data'\n",
    "GCS_DS_PATH"
   ]
  },
  {
   "cell_type": "code",
   "execution_count": 10,
   "metadata": {
    "execution": {
     "iopub.execute_input": "2021-05-10T03:02:20.039044Z",
     "iopub.status.busy": "2021-05-10T03:02:20.038336Z",
     "iopub.status.idle": "2021-05-10T03:02:20.470101Z",
     "shell.execute_reply": "2021-05-10T03:02:20.469523Z"
    },
    "id": "posted-intelligence",
    "papermill": {
     "duration": 0.466608,
     "end_time": "2021-05-10T03:02:20.470284",
     "exception": false,
     "start_time": "2021-05-10T03:02:20.003676",
     "status": "completed"
    },
    "tags": []
   },
   "outputs": [],
   "source": [
    "def get_train_dataset(bs= BATCH_SIZE):\n",
    "    #A tf.data.Options object can be, for instance, used to control which static optimizations to apply\n",
    "    #to the input pipeline graph or whether to use performance modeling to dynamically tune the parallelism\n",
    "    #of operations such as tf.data.Dataset.map or tf.data.Dataset.interleave.\n",
    "    ignore_order = tf.data.Options()\n",
    "    ignore_order.experimental_deterministic = False\n",
    "    \n",
    "    FNAMES_TRAIN_TFRECORDS = tf.io.gfile.glob(f'{GCS_DS_PATH}/train/*.tfrecords')\n",
    "    AUTO= tf.data.experimental.AUTOTUNE\n",
    "    train_dataset = tf.data.TFRecordDataset(FNAMES_TRAIN_TFRECORDS, num_parallel_reads=AUTO)\n",
    "    \n",
    "    train_dataset = train_dataset.with_options(ignore_order)\n",
    "    train_dataset = train_dataset.prefetch(AUTO) # optimize automatically\n",
    "    train_dataset = train_dataset.repeat()\n",
    "    train_dataset = train_dataset.map(decode_tfrecord, num_parallel_calls=AUTO)  # optimize automatically\n",
    "    train_dataset = train_dataset.batch(BATCH_SIZE, drop_remainder=True)\n",
    "    #train_dataset = train_dataset.prefetch(1) # just 1 prefetched batch is needed\n",
    "    \n",
    "    return train_dataset\n",
    "\n",
    "train_dataset = get_train_dataset()"
   ]
  },
  {
   "cell_type": "code",
   "execution_count": 11,
   "metadata": {
    "execution": {
     "iopub.execute_input": "2021-05-10T03:02:20.533454Z",
     "iopub.status.busy": "2021-05-10T03:02:20.532767Z",
     "iopub.status.idle": "2021-05-10T03:02:20.637826Z",
     "shell.execute_reply": "2021-05-10T03:02:20.637270Z"
    },
    "id": "ahead-flavor",
    "papermill": {
     "duration": 0.139819,
     "end_time": "2021-05-10T03:02:20.637984",
     "exception": false,
     "start_time": "2021-05-10T03:02:20.498165",
     "status": "completed"
    },
    "tags": []
   },
   "outputs": [],
   "source": [
    "def get_val_dataset(bs=BATCH_SIZE):\n",
    "    FNAMES_TRAIN_TFRECORDS = tf.io.gfile.glob(f'{GCS_DS_PATH}/val/*.tfrecords')\n",
    "    AUTO= tf.data.experimental.AUTOTUNE\n",
    "    val_dataset = tf.data.TFRecordDataset(FNAMES_TRAIN_TFRECORDS, num_parallel_reads=AUTO)\n",
    "    val_dataset = val_dataset.prefetch(AUTO)\n",
    "    val_dataset = val_dataset.repeat()\n",
    "    val_dataset = val_dataset.map(decode_tfrecord, num_parallel_calls=AUTO)\n",
    "    val_dataset = val_dataset.batch(BATCH_SIZE, drop_remainder=True)\n",
    "    val_dataset = val_dataset.prefetch(1)\n",
    "    \n",
    "    return val_dataset\n",
    "\n",
    "val_dataset = get_val_dataset()"
   ]
  },
  {
   "cell_type": "code",
   "execution_count": 12,
   "metadata": {
    "execution": {
     "iopub.execute_input": "2021-05-10T03:02:20.699548Z",
     "iopub.status.busy": "2021-05-10T03:02:20.698709Z",
     "iopub.status.idle": "2021-05-10T03:02:22.867934Z",
     "shell.execute_reply": "2021-05-10T03:02:22.867167Z"
    },
    "id": "cordless-ensemble",
    "outputId": "a28f771d-cf6c-4fac-b8a1-1016a2856b8e",
    "papermill": {
     "duration": 2.202257,
     "end_time": "2021-05-10T03:02:22.868106",
     "exception": false,
     "start_time": "2021-05-10T03:02:20.665849",
     "status": "completed"
    },
    "tags": []
   },
   "outputs": [
    {
     "name": "stdout",
     "output_type": "stream",
     "text": [
      "imgs.shape: (144, 300, 480, 3), lbls.shape: (144, 200)\n"
     ]
    }
   ],
   "source": [
    "#load one iter sample\n",
    "imgs, lbls = next(iter(train_dataset))\n",
    "print(f'imgs.shape: {imgs.shape}, lbls.shape: {lbls.shape}')"
   ]
  },
  {
   "cell_type": "markdown",
   "metadata": {
    "id": "optional-daisy",
    "papermill": {
     "duration": 0.027965,
     "end_time": "2021-05-10T03:02:22.925882",
     "exception": false,
     "start_time": "2021-05-10T03:02:22.897917",
     "status": "completed"
    },
    "tags": []
   },
   "source": [
    "# Encoder-Decoder Model Config"
   ]
  },
  {
   "cell_type": "code",
   "execution_count": 13,
   "metadata": {
    "execution": {
     "iopub.execute_input": "2021-05-10T03:02:22.991931Z",
     "iopub.status.busy": "2021-05-10T03:02:22.991022Z",
     "iopub.status.idle": "2021-05-10T03:02:22.994098Z",
     "shell.execute_reply": "2021-05-10T03:02:22.993613Z"
    },
    "id": "editorial-tracy",
    "papermill": {
     "duration": 0.039858,
     "end_time": "2021-05-10T03:02:22.994255",
     "exception": false,
     "start_time": "2021-05-10T03:02:22.954397",
     "status": "completed"
    },
    "tags": []
   },
   "outputs": [],
   "source": [
    "class Encoderv1(tf.keras.Model):\n",
    "    \"\"\"Encoderv1\"\"\"\n",
    "    def __init__(self):\n",
    "        super(Encoderv1, self).__init__()\n",
    "        self.fea_ext = tf.keras.applications.EfficientNetB3(include_top=False, weights='imagenet', drop_connect_rate=0.3)\n",
    "        global ENCODER_DIM\n",
    "        ENCODER_DIM = self.fea_ext.layers[-1].output_shape[-1] \n",
    "        self.reshape = tf.keras.layers.Reshape([-1, ENCODER_DIM], name='reshape_featuere_maps')\n",
    "        self.permuate = tf.keras.layers.Permute([2, 1], name='permutate_features_last')\n",
    "    def call(self, x, training):\n",
    "        x = self.fea_ext(x, training=training)\n",
    "        x = self.reshape(x, training=training)\n",
    "        x = self.permuate(x, training=training)\n",
    "        return x"
   ]
  },
  {
   "cell_type": "code",
   "execution_count": 14,
   "metadata": {
    "execution": {
     "iopub.execute_input": "2021-05-10T03:02:23.061898Z",
     "iopub.status.busy": "2021-05-10T03:02:23.061070Z",
     "iopub.status.idle": "2021-05-10T03:02:23.065422Z",
     "shell.execute_reply": "2021-05-10T03:02:23.064780Z"
    },
    "id": "grand-friend",
    "papermill": {
     "duration": 0.042696,
     "end_time": "2021-05-10T03:02:23.065562",
     "exception": false,
     "start_time": "2021-05-10T03:02:23.022866",
     "status": "completed"
    },
    "tags": []
   },
   "outputs": [],
   "source": [
    "class BahdanauAttention(tf.keras.layers.Layer):\n",
    "    \"\"\"BahdanauAttention\"\"\"\n",
    "    def __init__(self, units):\n",
    "        super(BahdanauAttention, self).__init__()\n",
    "        self.W1= tf.keras.layers.Dense(units, name='hidden_to_attention_units')\n",
    "        self.W2= tf.keras.layers.Dense(units, name='encoder_to_attention_units')\n",
    "        self.V= tf.keras.layers.Dense(1, name='score_to_alpha')\n",
    "    def call(self, h, encoder_res, training):\n",
    "        # dense hidden state to attention units size and expand dimension\n",
    "        hidden_with_time_axis = tf.expand_dims(h, 1)\n",
    "        hidden_with_time_axis = self.W1(hidden_with_time_axis, training=training)\n",
    "        # dense features to units size\n",
    "        encoder_res_dense = self.W2(encoder_res, training=training)\n",
    "        # add vectors\n",
    "        score = tf.math.tanh(hidden_with_time_axis + encoder_res_dense)\n",
    "        score = self.V(score, training=training)\n",
    "        # create alpha vector size (bs, layers)        \n",
    "        attention_weights = tf.nn.softmax(score, axis=1)\n",
    "        # create attention weights (bs, layers)\n",
    "        context_vector = encoder_res * attention_weights #  tf.expand_dims(attention_weights, axis=2)\n",
    "        context_vector = tf.reduce_sum(context_vector  , axis=2)\n",
    "        return context_vector, attention_weights"
   ]
  },
  {
   "cell_type": "code",
   "execution_count": 15,
   "metadata": {
    "execution": {
     "iopub.execute_input": "2021-05-10T03:02:23.137187Z",
     "iopub.status.busy": "2021-05-10T03:02:23.131187Z",
     "iopub.status.idle": "2021-05-10T03:02:23.140031Z",
     "shell.execute_reply": "2021-05-10T03:02:23.140523Z"
    },
    "id": "false-things",
    "papermill": {
     "duration": 0.046525,
     "end_time": "2021-05-10T03:02:23.140701",
     "exception": false,
     "start_time": "2021-05-10T03:02:23.094176",
     "status": "completed"
    },
    "tags": []
   },
   "outputs": [],
   "source": [
    "class Decoder(tf.keras.Model):\n",
    "    def __init__(self, vocab_size, attention_units, encoder_dim, decoder_dim):\n",
    "        super(Decoder, self).__init__()\n",
    "        self.vocab_size = vocab_size\n",
    "        self.attention_units = attention_units\n",
    "        self.encoder_dim = encoder_dim\n",
    "        self.decoder_dim = decoder_dim\n",
    "        # LSTM hidden and carry state initialization\n",
    "        self.init_h = tf.keras.layers.Dense(units=decoder_dim, input_shape=[encoder_dim], name='encoder_res_to_hidden_init')\n",
    "        self.init_c = tf.keras.layers.Dense(units=decoder_dim, input_shape=[encoder_dim], name='encoder_res_to_inp_act_init')\n",
    "        # The LSTM cell\n",
    "        self.lstm_cell = tf.keras.layers.LSTMCell(decoder_dim, name='lstm_char_predictor')\n",
    "        # dropout before prediction\n",
    "        self.drop = tf.keras.layers.Dropout(0.3, name='prediction_dropout')\n",
    "        # fully connected prediction layer\n",
    "        self.fcn = tf.keras.layers.Dense(units=vocab_size, input_shape=[decoder_dim], activation='softmax', dtype=tf.float32, name='lstm_output_to_char_probs')\n",
    "        # character embedding layer\n",
    "        self.embedding = tf.keras.layers.Embedding(vocab_size, decoder_dim)\n",
    "\n",
    "        # used for attention\n",
    "        self.attention = BahdanauAttention(self.attention_units)\n",
    "    def call(self, char, h, c, enc_output, training):\n",
    "        \n",
    "        # embed previous character\n",
    "        char = self.embedding(char, training=training)\n",
    "        char = tf.squeeze(char, axis=1)\n",
    "        #print('------', char.shape)\n",
    "        # get attention alpha and context vector\n",
    "        context, _ = self.attention(h, enc_output, training=training)\n",
    "\n",
    "        # concat context and char to create lstm input\n",
    "        lstm_input = tf.concat((context, char), axis=-1)\n",
    "        \n",
    "        # LSTM call, get new h, c\n",
    "        _, (h_new, c_new) = self.lstm_cell(lstm_input, (h, c), training=training)\n",
    "        \n",
    "        # compute predictions with dropout\n",
    "        output = self.drop(h_new, training=training)\n",
    "        output = self.fcn(output, training=training)\n",
    "\n",
    "        return output, h_new, c_new\n",
    "    def init_hidden_state(self, encoder_out, training):\n",
    "        mean_encoder_out = tf.math.reduce_mean(encoder_out, axis=1)\n",
    "        h = self.init_h(mean_encoder_out, training=training)  # (batch_size, decoder_dim)\n",
    "        c = self.init_c(mean_encoder_out, training=training)\n",
    "        return h, c"
   ]
  },
  {
   "cell_type": "code",
   "execution_count": 16,
   "metadata": {
    "execution": {
     "iopub.execute_input": "2021-05-10T03:02:23.203738Z",
     "iopub.status.busy": "2021-05-10T03:02:23.203050Z",
     "iopub.status.idle": "2021-05-10T03:02:52.438127Z",
     "shell.execute_reply": "2021-05-10T03:02:52.437583Z"
    },
    "id": "determined-renewal",
    "papermill": {
     "duration": 29.268867,
     "end_time": "2021-05-10T03:02:52.438288",
     "exception": false,
     "start_time": "2021-05-10T03:02:23.169421",
     "status": "completed"
    },
    "tags": []
   },
   "outputs": [
    {
     "name": "stdout",
     "output_type": "stream",
     "text": [
      "Downloading data from https://storage.googleapis.com/keras-applications/efficientnetb3_notop.h5\n",
      "43941888/43941136 [==============================] - 0s 0us/step\n",
      "Model: \"encoderv1\"\n",
      "_________________________________________________________________\n",
      "Layer (type)                 Output Shape              Param #   \n",
      "=================================================================\n",
      "efficientnetb3 (Functional)  (None, None, None, 1536)  10783535  \n",
      "_________________________________________________________________\n",
      "reshape_featuere_maps (Resha multiple                  0         \n",
      "_________________________________________________________________\n",
      "permutate_features_last (Per multiple                  0         \n",
      "=================================================================\n",
      "Total params: 10,783,535\n",
      "Trainable params: 10,696,232\n",
      "Non-trainable params: 87,303\n",
      "_________________________________________________________________\n",
      "Encoder output shape: (batch size, sequence length, units) (2, 1536, 135)\n"
     ]
    }
   ],
   "source": [
    "# Example enoder output\n",
    "with tf.device('/CPU:0'):\n",
    "    encoder_ex = Encoderv1()\n",
    "    encoder_res = encoder_ex(imgs[:2])\n",
    "encoder_ex.summary()\n",
    "print ('Encoder output shape: (batch size, sequence length, units) {}'.format(encoder_res.shape))"
   ]
  },
  {
   "cell_type": "code",
   "execution_count": 17,
   "metadata": {
    "execution": {
     "iopub.execute_input": "2021-05-10T03:02:52.512176Z",
     "iopub.status.busy": "2021-05-10T03:02:52.511104Z",
     "iopub.status.idle": "2021-05-10T03:02:52.811600Z",
     "shell.execute_reply": "2021-05-10T03:02:52.811026Z"
    },
    "id": "cloudy-mayor",
    "papermill": {
     "duration": 0.341026,
     "end_time": "2021-05-10T03:02:52.811741",
     "exception": false,
     "start_time": "2021-05-10T03:02:52.470715",
     "status": "completed"
    },
    "tags": []
   },
   "outputs": [
    {
     "name": "stdout",
     "output_type": "stream",
     "text": [
      "Model: \"decoder\"\n",
      "_________________________________________________________________\n",
      "Layer (type)                 Output Shape              Param #   \n",
      "=================================================================\n",
      "encoder_res_to_hidden_init ( multiple                  69632     \n",
      "_________________________________________________________________\n",
      "encoder_res_to_inp_act_init  multiple                  69632     \n",
      "_________________________________________________________________\n",
      "lstm_char_predictor (LSTMCel multiple                  5244928   \n",
      "_________________________________________________________________\n",
      "prediction_dropout (Dropout) multiple                  0         \n",
      "_________________________________________________________________\n",
      "lstm_output_to_char_probs (D multiple                  21033     \n",
      "_________________________________________________________________\n",
      "embedding (Embedding)        multiple                  20992     \n",
      "_________________________________________________________________\n",
      "bahdanau_attention (Bahdanau multiple                  332801    \n",
      "=================================================================\n",
      "Total params: 5,759,018\n",
      "Trainable params: 5,759,018\n",
      "Non-trainable params: 0\n",
      "_________________________________________________________________\n",
      "Decoder output shape: (batch_size, vocab size) (2, 41)\n"
     ]
    }
   ],
   "source": [
    "with tf.device('/CPU:0'):\n",
    "    decoder_ex = Decoder(VOCAB_SIZE, ATTENTION_UNITS, ENCODER_DIM, DECODER_DIM)\n",
    "    h, c = decoder_ex.init_hidden_state(encoder_res, training=False)\n",
    "    preds, h, c = decoder_ex(tf.random.uniform((2, 1)), h, c, encoder_res)\n",
    "\n",
    "decoder_ex.summary()\n",
    "print ('Decoder output shape: (batch_size, vocab size) {}'.format(preds.shape))"
   ]
  },
  {
   "cell_type": "code",
   "execution_count": 18,
   "metadata": {
    "execution": {
     "iopub.execute_input": "2021-05-10T03:02:52.886029Z",
     "iopub.status.busy": "2021-05-10T03:02:52.884901Z",
     "iopub.status.idle": "2021-05-10T03:02:52.888290Z",
     "shell.execute_reply": "2021-05-10T03:02:52.887699Z"
    },
    "id": "spread-liechtenstein",
    "papermill": {
     "duration": 0.043878,
     "end_time": "2021-05-10T03:02:52.888461",
     "exception": false,
     "start_time": "2021-05-10T03:02:52.844583",
     "status": "completed"
    },
    "tags": []
   },
   "outputs": [],
   "source": [
    "# The start/end/pad tokens will be removed from the string when computing the Levenshtein distance\n",
    "START_TOKEN = tf.constant(vocabulary_to_int.get('<start>'), dtype=tf.int64)\n",
    "END_TOKEN = tf.constant(vocabulary_to_int.get('<end>'), dtype=tf.int64)\n",
    "PAD_TOKEN = tf.constant(vocabulary_to_int.get('<pad>'), dtype=tf.int64)"
   ]
  },
  {
   "cell_type": "markdown",
   "metadata": {
    "id": "controversial-somewhere",
    "papermill": {
     "duration": 0.033474,
     "end_time": "2021-05-10T03:02:52.954679",
     "exception": false,
     "start_time": "2021-05-10T03:02:52.921205",
     "status": "completed"
    },
    "tags": []
   },
   "source": [
    "# Custom TPU Training"
   ]
  },
  {
   "cell_type": "code",
   "execution_count": 19,
   "metadata": {
    "execution": {
     "iopub.execute_input": "2021-05-10T03:02:53.027142Z",
     "iopub.status.busy": "2021-05-10T03:02:53.026103Z",
     "iopub.status.idle": "2021-05-10T03:02:53.032098Z",
     "shell.execute_reply": "2021-05-10T03:02:53.031596Z"
    },
    "id": "stunning-study",
    "papermill": {
     "duration": 0.044659,
     "end_time": "2021-05-10T03:02:53.032264",
     "exception": false,
     "start_time": "2021-05-10T03:02:52.987605",
     "status": "completed"
    },
    "tags": []
   },
   "outputs": [
    {
     "data": {
      "text/plain": [
       "84000"
      ]
     },
     "execution_count": 19,
     "metadata": {},
     "output_type": "execute_result"
    }
   ],
   "source": [
    "# Training configuration\n",
    "\n",
    "base_lr= 0.001\n",
    "final_lr= 1e-8\n",
    "EPOCHS = 28\n",
    "TRAIN_STEPS = 3000\n",
    "VERBOSE_FREQ = 200\n",
    "STEPS_PER_EPOCH = TRAIN_STEPS // VERBOSE_FREQ\n",
    "TOTAL_STEPS = EPOCHS * TRAIN_STEPS\n",
    "TOTAL_STEPS"
   ]
  },
  {
   "cell_type": "code",
   "execution_count": 20,
   "metadata": {
    "execution": {
     "iopub.execute_input": "2021-05-10T03:02:53.111538Z",
     "iopub.status.busy": "2021-05-10T03:02:53.110863Z",
     "iopub.status.idle": "2021-05-10T03:03:24.997166Z",
     "shell.execute_reply": "2021-05-10T03:03:24.996531Z"
    },
    "papermill": {
     "duration": 31.931777,
     "end_time": "2021-05-10T03:03:24.997356",
     "exception": false,
     "start_time": "2021-05-10T03:02:53.065579",
     "status": "completed"
    },
    "tags": []
   },
   "outputs": [],
   "source": [
    "with strategy.scope():\n",
    "    # Encoder\n",
    "    encoder = Encoderv1()\n",
    "    encoder.build(input_shape=[BATCH_SIZE, IMG_HEIGHT, IMG_WIDTH, N_CHANNELS])\n",
    "    encoder_res = encoder(imgs[:2], training=False)\n",
    "    # Decoder\n",
    "    decoder = Decoder(VOCAB_SIZE, ATTENTION_UNITS, ENCODER_DIM, DECODER_DIM)\n",
    "    h, c = decoder.init_hidden_state(encoder_res, training=False)\n",
    "    preds, h, c = decoder(lbls[:2, :1], h, c, encoder_res, training=False)\n",
    "    \n",
    "    # Metrics\n",
    "    train_loss = tf.keras.metrics.Sum()\n",
    "    val_loss = tf.keras.metrics.Sum()\n",
    "\n",
    "    train_accuracy = tf.keras.metrics.SparseCategoricalAccuracy()\n",
    "    val_accuracy = tf.keras.metrics.SparseCategoricalAccuracy()\n",
    "    loss_object = tf.keras.losses.SparseCategoricalCrossentropy(from_logits=True,\n",
    "                                            reduction=tf.keras.losses.Reduction.NONE)\n",
    "    def loss_func(real, pred):\n",
    "        per_example_loss= loss_object(real, pred)\n",
    "        return tf.nn.compute_average_loss(per_example_loss, global_batch_size=BATCH_SIZE)\n",
    "    \n",
    "    optimizer = tf.keras.optimizers.Adam(base_lr)"
   ]
  },
  {
   "cell_type": "code",
   "execution_count": 21,
   "metadata": {
    "execution": {
     "iopub.execute_input": "2021-05-10T03:03:25.076840Z",
     "iopub.status.busy": "2021-05-10T03:03:25.073789Z",
     "iopub.status.idle": "2021-05-10T03:03:25.080214Z",
     "shell.execute_reply": "2021-05-10T03:03:25.079676Z"
    },
    "id": "marked-agent",
    "papermill": {
     "duration": 0.049362,
     "end_time": "2021-05-10T03:03:25.080392",
     "exception": false,
     "start_time": "2021-05-10T03:03:25.031030",
     "status": "completed"
    },
    "tags": []
   },
   "outputs": [],
   "source": [
    "@tf.function()\n",
    "def distributed_train_step(dataset):\n",
    "    # Step function\n",
    "    def train_step(inp, targ):\n",
    "        total_loss = 0.0\n",
    " \n",
    "        with tf.GradientTape() as tape:\n",
    "            enc_output = encoder(inp, training=True)\n",
    "            h, c = decoder.init_hidden_state(enc_output, training=True)\n",
    "            dec_input = tf.expand_dims(targ[:, 0], 1)\n",
    " \n",
    "            for idx in range(1, SEQ_LEN_OUT):\n",
    "                t = targ[:, idx]\n",
    "                # passing enc_output to the decoder\n",
    "                predictions, h, c = decoder(dec_input, h, c, enc_output, training=True)            \n",
    "                # update loss and train metrics\n",
    "                total_loss += loss_func(t, predictions)\n",
    "                train_accuracy.update_state(t, predictions)\n",
    "                # using NO teacher forcing\n",
    "                dec_input= tf.expand_dims(tf.argmax(predictions, 1), 1)\n",
    "                dec_input= tf.cast(dec_input, LABEL_DTYPE)\n",
    " \n",
    "        variables = encoder.trainable_variables + decoder.trainable_variables\n",
    "        gradients = tape.gradient(total_loss, variables)\n",
    "        gradients, _ = tf.clip_by_global_norm(gradients, 8.0)\n",
    "        optimizer.apply_gradients(zip(gradients, variables))\n",
    " \n",
    "        batch_loss = total_loss / (SEQ_LEN_OUT - 1)\n",
    "        train_loss.update_state(batch_loss)\n",
    "    \n",
    "    # reset metrics\n",
    "    train_loss.reset_states()\n",
    "    train_accuracy.reset_states()\n",
    "    # perform VERBOSE_FREQ train steps\n",
    "    for _ in tf.range(tf.convert_to_tensor(VERBOSE_FREQ)):\n",
    "        strategy.run(train_step, args=next(dataset))"
   ]
  },
  {
   "cell_type": "code",
   "execution_count": 22,
   "metadata": {
    "execution": {
     "iopub.execute_input": "2021-05-10T03:03:25.165209Z",
     "iopub.status.busy": "2021-05-10T03:03:25.162404Z",
     "iopub.status.idle": "2021-05-10T03:03:25.171020Z",
     "shell.execute_reply": "2021-05-10T03:03:25.169935Z"
    },
    "id": "rolled-collaboration",
    "papermill": {
     "duration": 0.055184,
     "end_time": "2021-05-10T03:03:25.171249",
     "exception": false,
     "start_time": "2021-05-10T03:03:25.116065",
     "status": "completed"
    },
    "tags": []
   },
   "outputs": [],
   "source": [
    "def validation_step(inp, targ):\n",
    "    total_loss =0\n",
    "    enc_output = encoder(inp, training=True)\n",
    "    h, c = decoder.init_hidden_state(enc_output, training=True)\n",
    "    dec_input= tf.expand_dims(targ[:, 0], 1)\n",
    "    predictions_seq = tf.expand_dims(targ[:, 0], 1)\n",
    "\n",
    "    for t in range(1, SEQ_LEN_OUT):\n",
    "            # passing enc_output to the decoder\n",
    "            predictions, h, c = decoder(dec_input, h, c, enc_output, training=False)\n",
    "            total_loss += loss_func(targ[:, t], predictions)\n",
    "            val_accuracy.update_state(targ[:, t], predictions)\n",
    "\n",
    "            dec_input= tf.expand_dims(tf.argmax(predictions, 1), 1)\n",
    "            dec_input= tf.cast(dec_input, LABEL_DTYPE)\n",
    "            predictions_seq=  tf.concat([predictions_seq, dec_input], axis=1)\n",
    "    batch_loss = total_loss / (SEQ_LEN_OUT - 1)\n",
    "    val_loss.update_state(batch_loss)\n",
    "    return targ, predictions_seq, batch_loss"
   ]
  },
  {
   "cell_type": "code",
   "execution_count": 23,
   "metadata": {
    "execution": {
     "iopub.execute_input": "2021-05-10T03:03:25.269943Z",
     "iopub.status.busy": "2021-05-10T03:03:25.269268Z",
     "iopub.status.idle": "2021-05-10T03:03:25.273048Z",
     "shell.execute_reply": "2021-05-10T03:03:25.271808Z"
    },
    "id": "frank-renaissance",
    "papermill": {
     "duration": 0.051246,
     "end_time": "2021-05-10T03:03:25.273239",
     "exception": false,
     "start_time": "2021-05-10T03:03:25.221993",
     "status": "completed"
    },
    "tags": []
   },
   "outputs": [],
   "source": [
    "@tf.function\n",
    "def distributed_val_step(dataset):\n",
    "    inp_val, targ_val = next(dataset)\n",
    "    targ, predictions_seq, loss = strategy.run(validation_step, args=(inp_val, targ_val))\n",
    "    return targ, predictions_seq, loss"
   ]
  },
  {
   "cell_type": "code",
   "execution_count": 24,
   "metadata": {
    "execution": {
     "iopub.execute_input": "2021-05-10T03:03:25.361025Z",
     "iopub.status.busy": "2021-05-10T03:03:25.355858Z",
     "iopub.status.idle": "2021-05-10T03:03:25.368611Z",
     "shell.execute_reply": "2021-05-10T03:03:25.369094Z"
    },
    "id": "cathedral-nomination",
    "papermill": {
     "duration": 0.058358,
     "end_time": "2021-05-10T03:03:25.369299",
     "exception": false,
     "start_time": "2021-05-10T03:03:25.310941",
     "status": "completed"
    },
    "tags": []
   },
   "outputs": [],
   "source": [
    "def val_metrics(dataset):\n",
    "    # reset metrics\n",
    "    val_accuracy.reset_states()\n",
    "    val_loss.reset_states()\n",
    "    for step in range(VAL_STEPS):\n",
    "        targ, predictions_seq, loss= distributed_val_step(dataset)\n",
    "    return strategy.gather(targ, 0), strategy.gather(predictions_seq, 0), val_loss.result().numpy()/(VAL_STEPS)\n",
    "    \n",
    "def save_model(acc= False):\n",
    "    if acc:\n",
    "        encoder.save_weights('./encoder-imgnet-ACC.h5')\n",
    "        decoder.save_weights('./decoder-imgnet-ACC.h5')\n",
    "    else:\n",
    "        encoder.save_weights('./encoder-imgnet-Loss.h5')\n",
    "        decoder.save_weights('./decoder-imgnet-Loss.h5')\n",
    "    \n",
    "    \n",
    "def lr_sch(step,  lr_init= 0.001, lr_final= final_lr, decay= EPOCHS):\n",
    "    power = (step) // ((TOTAL_STEPS) / (decay + 1))\n",
    "    decay_factor =  ((lr_init / lr_final) ** (1 / decay)) ** power\n",
    "    lr = lr_init / decay_factor\n",
    "    return lr\n",
    "    \n",
    "    \n",
    "def log(final_val_loss):\n",
    "    if final_val_loss > val_loss.result().numpy()/(VAL_STEPS):\n",
    "        print('Val loss decreased from {:.3f} to {:.3f}. Lr {:.6}'.format(final_val_loss,\n",
    "                          val_loss.result().numpy()/(VAL_STEPS), init_lr))\n",
    "        save_model(acc= False)\n",
    "        return val_loss.result().numpy()/(VAL_STEPS)\n",
    "    else:\n",
    "        return final_val_loss \n",
    "    \n",
    "def log2(final_val_acc):\n",
    "    if final_val_acc < val_accuracy.result().numpy():\n",
    "        print('Val Acc increased from {:.3f} to {:.3f}. Lr {:.6}'.format(final_val_acc,\n",
    "                          val_accuracy.result().numpy(), init_lr))\n",
    "        save_model(acc= True)\n",
    "        return val_accuracy.result().numpy()\n",
    "    else:\n",
    "        return final_val_acc \n",
    "    \n",
    "    \n",
    "def cosine_decay_with_warmup(global_step,\n",
    "                                 learning_rate_base,\n",
    "                                 total_steps,\n",
    "                                 warmup_learning_rate=0.0,\n",
    "                                 warmup_steps=0,\n",
    "                                 hold_base_rate_steps=0):\n",
    "        if total_steps < warmup_steps:\n",
    "            raise ValueError('total_steps must be larger or equal to '\n",
    "                             'warmup_steps.')\n",
    "        learning_rate = 0.5 * learning_rate_base * (\n",
    "            1 + np.cos(\n",
    "                np.pi * (global_step - warmup_steps - hold_base_rate_steps) /\n",
    "                float(total_steps - warmup_steps - hold_base_rate_steps)\n",
    "                )\n",
    "            )\n",
    "        if hold_base_rate_steps > 0:\n",
    "            learning_rate = np.where(global_step > warmup_steps + hold_base_rate_steps,\n",
    "                                     learning_rate, learning_rate_base)\n",
    "        if warmup_steps > 0:\n",
    "            if learning_rate_base < warmup_learning_rate:\n",
    "                raise ValueError('learning_rate_base must be larger or equal to '\n",
    "                                 'warmup_learning_rate.')\n",
    "            slope = (learning_rate_base - warmup_learning_rate) / warmup_steps\n",
    "            warmup_rate = slope * global_step + warmup_learning_rate\n",
    "            learning_rate = np.where(global_step < warmup_steps, warmup_rate,\n",
    "                                     learning_rate)\n",
    "        return np.where(global_step > total_steps, 0.0, learning_rate)\n",
    "    \n",
    "    \n",
    "def LR_schedule(step, change=True):\n",
    "    lr= cosine_decay_with_warmup(step, 0.001, TOTAL_STEPS, 0.001)\n",
    "    if change:\n",
    "        optimizer.learning_rate.assign(lr)\n",
    "    return lr"
   ]
  },
  {
   "cell_type": "code",
   "execution_count": 25,
   "metadata": {
    "execution": {
     "iopub.execute_input": "2021-05-10T03:03:25.467890Z",
     "iopub.status.busy": "2021-05-10T03:03:25.467133Z",
     "iopub.status.idle": "2021-05-10T03:03:25.668863Z",
     "shell.execute_reply": "2021-05-10T03:03:25.668206Z"
    },
    "papermill": {
     "duration": 0.264688,
     "end_time": "2021-05-10T03:03:25.669009",
     "exception": false,
     "start_time": "2021-05-10T03:03:25.404321",
     "status": "completed"
    },
    "tags": []
   },
   "outputs": [
    {
     "data": {
      "image/png": "[encoded data removed]",
      "text/plain": [
       "<Figure size 864x432 with 1 Axes>"
      ]
     },
     "metadata": {
      "needs_background": "light"
     },
     "output_type": "display_data"
    }
   ],
   "source": [
    "cosine_lr=[]; step_lr=[]\n",
    "for epoch in range(EPOCHS):\n",
    "    for step in range(1, STEPS_PER_EPOCH + 1):\n",
    "        stepv2= epoch * TRAIN_STEPS + step * VERBOSE_FREQ - 1\n",
    "        cosine_lr.append(LR_schedule(stepv2, change=False)); step_lr.append(lr_sch(stepv2))\n",
    "        \n",
    "plt.figure(figsize = (12, 6))\n",
    "plt.xlabel(\"Steps\"); plt.ylabel(\"Learning Rate\")\n",
    "plt.plot(cosine_lr, label = \"Cosine Lr\", color='orange', marker='.')\n",
    "plt.plot(step_lr, label = \"Step Lr\", marker='.')\n",
    "plt.title('Learning-Rate Schedule', size= 16)\n",
    "plt.grid(True); plt.legend(); plt.show()"
   ]
  },
  {
   "cell_type": "code",
   "execution_count": 26,
   "metadata": {
    "execution": {
     "iopub.execute_input": "2021-05-10T03:03:25.758384Z",
     "iopub.status.busy": "2021-05-10T03:03:25.757484Z",
     "iopub.status.idle": "2021-05-10T11:39:50.730007Z",
     "shell.execute_reply": "2021-05-10T11:39:50.730781Z"
    },
    "id": "loose-brown",
    "outputId": "86a5e83d-d16b-41ee-a2bf-7a507875cdb0",
    "papermill": {
     "duration": 30985.026318,
     "end_time": "2021-05-10T11:39:50.731863",
     "exception": false,
     "start_time": "2021-05-10T03:03:25.705545",
     "status": "completed"
    },
    "tags": []
   },
   "outputs": [
    {
     "name": "stdout",
     "output_type": "stream",
     "text": [
      "********* EPOCH 1 *****************\n",
      "Step 200/3000 | Loss 1.6926 Acc. 0.5027 | LR 0.000999986\n",
      "Step 400/3000 | Loss 1.4391 Acc. 0.5446 | LR 0.000999944\n",
      "Step 600/3000 | Loss 1.3960 Acc. 0.5526 | LR 0.000999875\n",
      "Step 800/3000 | Loss 1.3542 Acc. 0.5613 | LR 0.000999777\n",
      "Step 1000/3000 | Loss 1.3255 Acc. 0.5676 | LR 0.000999651\n",
      "Step 1200/3000 | Loss 1.2960 Acc. 0.5754 | LR 0.000999497\n",
      "Val loss decreased from 100.000 to 1.263. Lr 0.000999316\n",
      "Val Acc increased from 0.400 to 0.584. Lr 0.000999316\n",
      "Step 1400/3000 | Loss 1.2820 Acc. 0.5793 | Val_Loss 1.2633 Val_Acc 0.5845 | LR 0.000999316\n",
      "Step 1600/3000 | Loss 1.2603 Acc. 0.5856 | LR 0.000999106\n",
      "Step 1800/3000 | Loss 1.2512 Acc. 0.5888 | LR 0.000998869\n",
      "Step 2000/3000 | Loss 1.2284 Acc. 0.5947 | LR 0.000998603\n",
      "Step 2200/3000 | Loss 1.2254 Acc. 0.597 | LR 0.00099831\n",
      "Step 2400/3000 | Loss 1.2065 Acc. 0.6011 | LR 0.000997989\n",
      "Step 2600/3000 | Loss 1.1942 Acc. 0.6053 | LR 0.00099764\n",
      "Step 2800/3000 | Loss 1.1836 Acc. 0.6076 | LR 0.000997263\n",
      "Val loss decreased from 1.263 to 1.149. Lr 0.000996858\n",
      "Val Acc increased from 0.584 to 0.617. Lr 0.000996858\n",
      "Step 3000/3000 | Loss 1.1707 Acc. 0.6115 | Val_Loss 1.1487 Val_Acc 0.6175 | LR 0.000996858\n",
      "Epoch 1 Loss 1.3\n",
      "********* EPOCH 2 *****************\n",
      "Step 200/3000 | Loss 1.1708 Acc. 0.6123 | LR 0.000996426\n",
      "Step 400/3000 | Loss 1.1590 Acc. 0.6159 | LR 0.000995965\n",
      "Step 600/3000 | Loss 1.1506 Acc. 0.6179 | LR 0.000995477\n",
      "Step 800/3000 | Loss 1.1399 Acc. 0.6209 | LR 0.000994962\n",
      "Step 1000/3000 | Loss 1.1369 Acc. 0.6221 | LR 0.000994418\n",
      "Step 1200/3000 | Loss 1.1153 Acc. 0.6279 | LR 0.000993847\n",
      "Val loss decreased from 1.149 to 1.087. Lr 0.000993248\n",
      "Val Acc increased from 0.617 to 0.637. Lr 0.000993248\n",
      "Step 1400/3000 | Loss 1.1123 Acc. 0.6289 | Val_Loss 1.0867 Val_Acc 0.6366 | LR 0.000993248\n",
      "Step 1600/3000 | Loss 1.0966 Acc. 0.6346 | LR 0.000992622\n",
      "Step 1800/3000 | Loss 1.0765 Acc. 0.6409 | LR 0.000991968\n",
      "Step 2000/3000 | Loss 1.0600 Acc. 0.6465 | LR 0.000991287\n",
      "Step 2200/3000 | Loss 1.0499 Acc. 0.6502 | LR 0.000990578\n",
      "Step 2400/3000 | Loss 1.0401 Acc. 0.653 | LR 0.000989841\n",
      "Step 2600/3000 | Loss 1.0309 Acc. 0.6564 | LR 0.000989078\n",
      "Step 2800/3000 | Loss 1.0200 Acc. 0.6602 | LR 0.000988287\n",
      "Val loss decreased from 1.087 to 0.991. Lr 0.000987468\n",
      "Val Acc increased from 0.637 to 0.671. Lr 0.000987468\n",
      "Step 3000/3000 | Loss 1.0110 Acc. 0.6633 | Val_Loss 0.9905 Val_Acc 0.6706 | LR 0.000987468\n",
      "Epoch 2 Loss 1.091\n",
      "********* EPOCH 3 *****************\n",
      "Step 200/3000 | Loss 1.0078 Acc. 0.6652 | LR 0.000986622\n",
      "Step 400/3000 | Loss 0.9957 Acc. 0.6698 | LR 0.000985749\n",
      "Step 600/3000 | Loss 0.9883 Acc. 0.672 | LR 0.000984849\n",
      "Step 800/3000 | Loss 0.9781 Acc. 0.6758 | LR 0.000983922\n",
      "Step 1000/3000 | Loss 0.9692 Acc. 0.6786 | LR 0.000982968\n",
      "Step 1200/3000 | Loss 0.9613 Acc. 0.6815 | LR 0.000981986\n",
      "Val loss decreased from 0.991 to 0.944. Lr 0.000980978\n",
      "Val Acc increased from 0.671 to 0.685. Lr 0.000980978\n",
      "Step 1400/3000 | Loss 0.9584 Acc. 0.6827 | Val_Loss 0.9442 Val_Acc 0.6853 | LR 0.000980978\n",
      "Step 1600/3000 | Loss 0.9453 Acc. 0.687 | LR 0.000979943\n",
      "Step 1800/3000 | Loss 0.9550 Acc. 0.6836 | LR 0.000978881\n",
      "Step 2000/3000 | Loss 0.9274 Acc. 0.6929 | LR 0.000977792\n",
      "Step 2200/3000 | Loss 0.9215 Acc. 0.6951 | LR 0.000976676\n",
      "Step 2400/3000 | Loss 0.9246 Acc. 0.6941 | LR 0.000975534\n",
      "Step 2600/3000 | Loss 0.9041 Acc. 0.7008 | LR 0.000974365\n",
      "Step 2800/3000 | Loss 0.8954 Acc. 0.7035 | LR 0.00097317\n",
      "Val loss decreased from 0.944 to 0.885. Lr 0.000971948\n",
      "Val Acc increased from 0.685 to 0.705. Lr 0.000971948\n",
      "Step 3000/3000 | Loss 0.8909 Acc. 0.7055 | Val_Loss 0.8851 Val_Acc 0.7048 | LR 0.000971948\n",
      "Epoch 3 Loss 0.948\n",
      "********* EPOCH 4 *****************\n",
      "Step 200/3000 | Loss 0.9080 Acc. 0.6999 | LR 0.0009707\n",
      "Step 400/3000 | Loss 0.8810 Acc. 0.7088 | LR 0.000969425\n",
      "Step 600/3000 | Loss 0.8735 Acc. 0.7111 | LR 0.000968124\n",
      "Step 800/3000 | Loss 0.8603 Acc. 0.7158 | LR 0.000966797\n",
      "Step 1000/3000 | Loss 0.8693 Acc. 0.7135 | LR 0.000965444\n",
      "Step 1200/3000 | Loss 0.8579 Acc. 0.717 | LR 0.000964064\n",
      "Val loss decreased from 0.885 to 0.823. Lr 0.000962659\n",
      "Val Acc increased from 0.705 to 0.728. Lr 0.000962659\n",
      "Step 1400/3000 | Loss 0.8477 Acc. 0.7205 | Val_Loss 0.8235 Val_Acc 0.7279 | LR 0.000962659\n",
      "Step 1600/3000 | Loss 0.8355 Acc. 0.724 | LR 0.000961228\n",
      "Step 1800/3000 | Loss 0.8292 Acc. 0.7261 | LR 0.000959771\n",
      "Step 2000/3000 | Loss 0.8254 Acc. 0.727 | LR 0.000958289\n",
      "Step 2200/3000 | Loss 0.8213 Acc. 0.7292 | LR 0.00095678\n",
      "Step 2400/3000 | Loss 0.8201 Acc. 0.7296 | LR 0.000955247\n",
      "Step 2600/3000 | Loss 0.8068 Acc. 0.7342 | LR 0.000953687\n",
      "Step 2800/3000 | Loss 0.8016 Acc. 0.7352 | LR 0.000952103\n",
      "Val loss decreased from 0.823 to 0.779. Lr 0.000950493\n",
      "Val Acc increased from 0.728 to 0.741. Lr 0.000950493\n",
      "Step 3000/3000 | Loss 0.8002 Acc. 0.7367 | Val_Loss 0.7791 Val_Acc 0.7414 | LR 0.000950493\n",
      "Epoch 4 Loss 0.843\n",
      "********* EPOCH 5 *****************\n",
      "Step 200/3000 | Loss 0.7979 Acc. 0.7374 | LR 0.000948857\n",
      "Step 400/3000 | Loss 0.7856 Acc. 0.7414 | LR 0.000947197\n",
      "Step 600/3000 | Loss 0.7821 Acc. 0.7423 | LR 0.000945512\n",
      "Step 800/3000 | Loss 0.7745 Acc. 0.7451 | LR 0.000943802\n",
      "Step 1000/3000 | Loss 0.7735 Acc. 0.7452 | LR 0.000942066\n",
      "Step 1200/3000 | Loss 0.7672 Acc. 0.7472 | LR 0.000940307\n",
      "Step 1400/3000 | Loss 0.7680 Acc. 0.7475 | Val_Loss 0.8065 Val_Acc 0.7333 | LR 0.000938522\n",
      "Step 1600/3000 | Loss 0.7596 Acc. 0.7498 | LR 0.000936713\n",
      "Step 1800/3000 | Loss 0.7610 Acc. 0.7491 | LR 0.00093488\n",
      "Step 2000/3000 | Loss 0.7472 Acc. 0.7539 | LR 0.000933022\n",
      "Step 2200/3000 | Loss 0.7421 Acc. 0.7559 | LR 0.00093114\n",
      "Step 2400/3000 | Loss 0.7433 Acc. 0.7552 | LR 0.000929234\n",
      "Step 2600/3000 | Loss 0.7410 Acc. 0.7565 | LR 0.000927304\n",
      "Step 2800/3000 | Loss 0.7280 Acc. 0.7602 | LR 0.00092535\n",
      "Val loss decreased from 0.779 to 0.733. Lr 0.000923372\n",
      "Val Acc increased from 0.741 to 0.758. Lr 0.000923372\n",
      "Step 3000/3000 | Loss 0.7209 Acc. 0.7630 | Val_Loss 0.7332 Val_Acc 0.7582 | LR 0.000923372\n",
      "Epoch 5 Loss 0.759\n",
      "********* EPOCH 6 *****************\n",
      "Step 200/3000 | Loss 0.7293 Acc. 0.7604 | LR 0.000921371\n",
      "Step 400/3000 | Loss 0.7250 Acc. 0.7624 | LR 0.000919345\n",
      "Step 600/3000 | Loss 0.7148 Acc. 0.7654 | LR 0.000917297\n",
      "Step 800/3000 | Loss 0.7169 Acc. 0.7638 | LR 0.000915225\n",
      "Step 1000/3000 | Loss 0.7062 Acc. 0.768 | LR 0.00091313\n",
      "Step 1200/3000 | Loss 0.7035 Acc. 0.7687 | LR 0.000911012\n",
      "Val loss decreased from 0.733 to 0.671. Lr 0.00090887\n",
      "Val Acc increased from 0.758 to 0.779. Lr 0.00090887\n",
      "Step 1400/3000 | Loss 0.7014 Acc. 0.7697 | Val_Loss 0.6713 Val_Acc 0.7794 | LR 0.00090887\n",
      "Step 1600/3000 | Loss 0.6910 Acc. 0.7728 | LR 0.000906706\n",
      "Step 1800/3000 | Loss 0.6841 Acc. 0.7749 | LR 0.000904519\n",
      "Step 2000/3000 | Loss 0.6848 Acc. 0.7751 | LR 0.00090231\n",
      "Step 2200/3000 | Loss 0.6840 Acc. 0.7765 | LR 0.000900078\n",
      "Step 2400/3000 | Loss 0.6796 Acc. 0.7771 | LR 0.000897824\n",
      "Step 2600/3000 | Loss 0.6791 Acc. 0.7774 | LR 0.000895547\n",
      "Step 2800/3000 | Loss 0.6645 Acc. 0.7816 | LR 0.000893248\n",
      "Val loss decreased from 0.671 to 0.665. Lr 0.000890927\n",
      "Val Acc increased from 0.779 to 0.782. Lr 0.000890927\n",
      "Step 3000/3000 | Loss 0.6680 Acc. 0.7814 | Val_Loss 0.6653 Val_Acc 0.7821 | LR 0.000890927\n",
      "Epoch 6 Loss 0.695\n",
      "********* EPOCH 7 *****************\n",
      "Step 200/3000 | Loss 0.6605 Acc. 0.7837 | LR 0.000888585\n",
      "Step 400/3000 | Loss 0.6593 Acc. 0.7839 | LR 0.00088622\n",
      "Step 600/3000 | Loss 0.6543 Acc. 0.7854 | LR 0.000883834\n",
      "Step 800/3000 | Loss 0.6519 Acc. 0.7871 | LR 0.000881427\n",
      "Step 1000/3000 | Loss 0.6447 Acc. 0.7893 | LR 0.000878998\n",
      "Step 1200/3000 | Loss 0.6472 Acc. 0.788 | LR 0.000876548\n",
      "Val loss decreased from 0.665 to 0.633. Lr 0.000874077\n",
      "Val Acc increased from 0.782 to 0.792. Lr 0.000874077\n",
      "Step 1400/3000 | Loss 0.6498 Acc. 0.7874 | Val_Loss 0.6334 Val_Acc 0.7921 | LR 0.000874077\n",
      "Step 1600/3000 | Loss 0.6392 Acc. 0.7913 | LR 0.000871585\n",
      "Step 1800/3000 | Loss 0.6305 Acc. 0.7932 | LR 0.000869072\n",
      "Step 2000/3000 | Loss 0.6419 Acc. 0.7899 | LR 0.000866539\n",
      "Step 2200/3000 | Loss 0.6304 Acc. 0.7943 | LR 0.000863985\n",
      "Step 2400/3000 | Loss 0.6281 Acc. 0.7945 | LR 0.00086141\n",
      "Step 2600/3000 | Loss 0.6257 Acc. 0.7958 | LR 0.000858816\n",
      "Step 2800/3000 | Loss 0.6195 Acc. 0.7974 | LR 0.000856201\n",
      "Val loss decreased from 0.633 to 0.633. Lr 0.000853567\n",
      "Val Acc increased from 0.792 to 0.793. Lr 0.000853567\n",
      "Step 3000/3000 | Loss 0.6158 Acc. 0.7987 | Val_Loss 0.6329 Val_Acc 0.7933 | LR 0.000853567\n",
      "Epoch 7 Loss 0.64\n",
      "********* EPOCH 8 *****************\n",
      "Step 200/3000 | Loss 0.6113 Acc. 0.8002 | LR 0.000850912\n",
      "Step 400/3000 | Loss 0.6132 Acc. 0.8 | LR 0.000848238\n",
      "Step 600/3000 | Loss 0.6039 Acc. 0.8027 | LR 0.000845545\n",
      "Step 800/3000 | Loss 0.6058 Acc. 0.8029 | LR 0.000842832\n",
      "Step 1000/3000 | Loss 0.6020 Acc. 0.8036 | LR 0.0008401\n",
      "Step 1200/3000 | Loss 0.6004 Acc. 0.8037 | LR 0.000837349\n",
      "Val loss decreased from 0.633 to 0.603. Lr 0.000834579\n",
      "Val Acc increased from 0.793 to 0.802. Lr 0.000834579\n",
      "Step 1400/3000 | Loss 0.5953 Acc. 0.8055 | Val_Loss 0.6031 Val_Acc 0.8024 | LR 0.000834579\n",
      "Step 1600/3000 | Loss 0.5909 Acc. 0.807 | LR 0.000831791\n",
      "Step 1800/3000 | Loss 0.5868 Acc. 0.8083 | LR 0.000828983\n",
      "Step 2000/3000 | Loss 0.5890 Acc. 0.808 | LR 0.000826158\n",
      "Step 2200/3000 | Loss 0.5799 Acc. 0.8115 | LR 0.000823314\n",
      "Step 2400/3000 | Loss 0.5779 Acc. 0.812 | LR 0.000820452\n",
      "Step 2600/3000 | Loss 0.5771 Acc. 0.812 | LR 0.000817572\n",
      "Step 2800/3000 | Loss 0.5750 Acc. 0.8128 | LR 0.000814675\n",
      "Val loss decreased from 0.603 to 0.560. Lr 0.00081176\n",
      "Val Acc increased from 0.802 to 0.817. Lr 0.00081176\n",
      "Step 3000/3000 | Loss 0.5713 Acc. 0.8138 | Val_Loss 0.5598 Val_Acc 0.8167 | LR 0.00081176\n",
      "Epoch 8 Loss 0.592\n",
      "********* EPOCH 9 *****************\n",
      "Step 200/3000 | Loss 0.5753 Acc. 0.8127 | LR 0.000808827\n",
      "Step 400/3000 | Loss 0.5659 Acc. 0.8158 | LR 0.000805877\n",
      "Step 600/3000 | Loss 0.5632 Acc. 0.8162 | LR 0.00080291\n",
      "Step 800/3000 | Loss 0.5610 Acc. 0.8173 | LR 0.000799926\n",
      "Step 1000/3000 | Loss 0.5599 Acc. 0.8178 | LR 0.000796925\n",
      "Step 1200/3000 | Loss 0.5481 Acc. 0.8214 | LR 0.000793908\n",
      "Val loss decreased from 0.560 to 0.558. Lr 0.000790874\n",
      "Val Acc increased from 0.817 to 0.818. Lr 0.000790874\n",
      "Step 1400/3000 | Loss 0.5608 Acc. 0.8177 | Val_Loss 0.5575 Val_Acc 0.8176 | LR 0.000790874\n",
      "Step 1600/3000 | Loss 0.5541 Acc. 0.8196 | LR 0.000787824\n",
      "Step 1800/3000 | Loss 0.5436 Acc. 0.8228 | LR 0.000784758\n",
      "Step 2000/3000 | Loss 0.5470 Acc. 0.8219 | LR 0.000781675\n",
      "Step 2200/3000 | Loss 0.5381 Acc. 0.8252 | LR 0.000778578\n",
      "Step 2400/3000 | Loss 0.5382 Acc. 0.8251 | LR 0.000775464\n",
      "Step 2600/3000 | Loss 0.5386 Acc. 0.8251 | LR 0.000772335\n",
      "Step 2800/3000 | Loss 0.5351 Acc. 0.8257 | LR 0.000769191\n",
      "Val loss decreased from 0.558 to 0.530. Lr 0.000766032\n",
      "Val Acc increased from 0.818 to 0.827. Lr 0.000766032\n",
      "Step 3000/3000 | Loss 0.5273 Acc. 0.8285 | Val_Loss 0.5302 Val_Acc 0.8272 | LR 0.000766032\n",
      "Epoch 9 Loss 0.55\n",
      "********* EPOCH 10 *****************\n",
      "Step 200/3000 | Loss 0.5346 Acc. 0.8262 | LR 0.000762858\n",
      "Step 400/3000 | Loss 0.5228 Acc. 0.8304 | LR 0.000759669\n",
      "Step 600/3000 | Loss 0.5210 Acc. 0.8305 | LR 0.000756466\n",
      "Step 800/3000 | Loss 0.5182 Acc. 0.8315 | LR 0.000753248\n",
      "Step 1000/3000 | Loss 0.5204 Acc. 0.8313 | LR 0.000750016\n",
      "Step 1200/3000 | Loss 0.5103 Acc. 0.8343 | LR 0.00074677\n",
      "Val loss decreased from 0.530 to 0.520. Lr 0.000743511\n",
      "Val Acc increased from 0.827 to 0.832. Lr 0.000743511\n",
      "Step 1400/3000 | Loss 0.5160 Acc. 0.8330 | Val_Loss 0.5205 Val_Acc 0.8318 | LR 0.000743511\n",
      "Step 1600/3000 | Loss 0.5097 Acc. 0.8343 | LR 0.000740237\n",
      "Step 1800/3000 | Loss 0.5019 Acc. 0.8365 | LR 0.000736951\n",
      "Step 2000/3000 | Loss 0.5046 Acc. 0.8364 | LR 0.000733651\n",
      "Step 2200/3000 | Loss 0.4982 Acc. 0.8388 | LR 0.000730338\n",
      "Step 2400/3000 | Loss 0.5005 Acc. 0.8371 | LR 0.000727012\n",
      "Step 2600/3000 | Loss 0.5007 Acc. 0.838 | LR 0.000723673\n",
      "Step 2800/3000 | Loss 0.4908 Acc. 0.841 | LR 0.000720322\n",
      "Val loss decreased from 0.520 to 0.493. Lr 0.000716959\n",
      "Val Acc increased from 0.832 to 0.840. Lr 0.000716959\n",
      "Step 3000/3000 | Loss 0.4885 Acc. 0.8413 | Val_Loss 0.4932 Val_Acc 0.8403 | LR 0.000716959\n",
      "Epoch 10 Loss 0.509\n",
      "********* EPOCH 11 *****************\n",
      "Step 200/3000 | Loss 0.4959 Acc. 0.839 | LR 0.000713583\n",
      "Step 400/3000 | Loss 0.4888 Acc. 0.8415 | LR 0.000710196\n",
      "Step 600/3000 | Loss 0.4814 Acc. 0.8436 | LR 0.000706796\n",
      "Step 800/3000 | Loss 0.4877 Acc. 0.842 | LR 0.000703385\n",
      "Step 1000/3000 | Loss 0.4803 Acc. 0.8443 | LR 0.000699963\n",
      "Step 1200/3000 | Loss 0.4770 Acc. 0.8453 | LR 0.00069653\n",
      "Step 1400/3000 | Loss 0.4782 Acc. 0.8449 | Val_Loss 0.5131 Val_Acc 0.8334 | LR 0.000693085\n",
      "Step 1600/3000 | Loss 0.4707 Acc. 0.8473 | LR 0.00068963\n",
      "Step 1800/3000 | Loss 0.4690 Acc. 0.8481 | LR 0.000686164\n",
      "Step 2000/3000 | Loss 0.4738 Acc. 0.8469 | LR 0.000682688\n",
      "Step 2200/3000 | Loss 0.4633 Acc. 0.8505 | LR 0.000679201\n",
      "Step 2400/3000 | Loss 0.4657 Acc. 0.8495 | LR 0.000675705\n",
      "Step 2600/3000 | Loss 0.4637 Acc. 0.8505 | LR 0.000672199\n",
      "Step 2800/3000 | Loss 0.4606 Acc. 0.851 | LR 0.000668683\n",
      "Val Acc increased from 0.840 to 0.841. Lr 0.000665157\n",
      "Step 3000/3000 | Loss 0.4558 Acc. 0.8525 | Val_Loss 0.4934 Val_Acc 0.8413 | LR 0.000665157\n",
      "Epoch 11 Loss 0.474\n",
      "********* EPOCH 12 *****************\n",
      "Step 200/3000 | Loss 0.4598 Acc. 0.8513 | LR 0.000661623\n",
      "Step 400/3000 | Loss 0.4574 Acc. 0.8522 | LR 0.000658079\n",
      "Step 600/3000 | Loss 0.4501 Acc. 0.8542 | LR 0.000654526\n",
      "Step 800/3000 | Loss 0.4559 Acc. 0.8533 | LR 0.000650965\n",
      "Step 1000/3000 | Loss 0.4493 Acc. 0.8551 | LR 0.000647395\n",
      "Step 1200/3000 | Loss 0.4406 Acc. 0.8574 | LR 0.000643818\n",
      "Val loss decreased from 0.493 to 0.463. Lr 0.000640232\n",
      "Val Acc increased from 0.841 to 0.852. Lr 0.000640232\n",
      "Step 1400/3000 | Loss 0.4464 Acc. 0.8560 | Val_Loss 0.4633 Val_Acc 0.8519 | LR 0.000640232\n",
      "Step 1600/3000 | Loss 0.4445 Acc. 0.8567 | LR 0.000636638\n",
      "Step 1800/3000 | Loss 0.4394 Acc. 0.8579 | LR 0.000633036\n",
      "Step 2000/3000 | Loss 0.4403 Acc. 0.8577 | LR 0.000629428\n",
      "Step 2200/3000 | Loss 0.4356 Acc. 0.8596 | LR 0.000625811\n",
      "Step 2400/3000 | Loss 0.4337 Acc. 0.8599 | LR 0.000622188\n",
      "Step 2600/3000 | Loss 0.4346 Acc. 0.8601 | LR 0.000618558\n",
      "Step 2800/3000 | Loss 0.4295 Acc. 0.8614 | LR 0.000614922\n",
      "Val loss decreased from 0.463 to 0.444. Lr 0.000611279\n",
      "Val Acc increased from 0.852 to 0.857. Lr 0.000611279\n",
      "Step 3000/3000 | Loss 0.4291 Acc. 0.8615 | Val_Loss 0.4442 Val_Acc 0.857 | LR 0.000611279\n",
      "Epoch 12 Loss 0.443\n",
      "********* EPOCH 13 *****************\n",
      "Step 200/3000 | Loss 0.4390 Acc. 0.8584 | LR 0.000607629\n",
      "Step 400/3000 | Loss 0.4276 Acc. 0.8622 | LR 0.000603974\n",
      "Step 600/3000 | Loss 0.4208 Acc. 0.864 | LR 0.000600313\n",
      "Step 800/3000 | Loss 0.4223 Acc. 0.864 | LR 0.000596646\n",
      "Step 1000/3000 | Loss 0.4208 Acc. 0.8643 | LR 0.000592974\n",
      "Step 1200/3000 | Loss 0.4139 Acc. 0.8665 | LR 0.000589297\n",
      "Val loss decreased from 0.444 to 0.433. Lr 0.000585615\n",
      "Val Acc increased from 0.857 to 0.862. Lr 0.000585615\n",
      "Step 1400/3000 | Loss 0.4194 Acc. 0.8650 | Val_Loss 0.4334 Val_Acc 0.8622 | LR 0.000585615\n",
      "Step 1600/3000 | Loss 0.4119 Acc. 0.8674 | LR 0.000581927\n",
      "Step 1800/3000 | Loss 0.4072 Acc. 0.8686 | LR 0.000578236\n",
      "Step 2000/3000 | Loss 0.4146 Acc. 0.8663 | LR 0.00057454\n",
      "Step 2200/3000 | Loss 0.4035 Acc. 0.8703 | LR 0.000570839\n",
      "Step 2400/3000 | Loss 0.4066 Acc. 0.869 | LR 0.000567135\n",
      "Step 2600/3000 | Loss 0.4090 Acc. 0.8688 | LR 0.000563427\n",
      "Step 2800/3000 | Loss 0.3982 Acc. 0.8716 | LR 0.000559716\n",
      "Val loss decreased from 0.433 to 0.428. Lr 0.000556001\n",
      "Val Acc increased from 0.862 to 0.863. Lr 0.000556001\n",
      "Step 3000/3000 | Loss 0.4008 Acc. 0.8710 | Val_Loss 0.4280 Val_Acc 0.8625 | LR 0.000556001\n",
      "Epoch 13 Loss 0.414\n",
      "********* EPOCH 14 *****************\n",
      "Step 200/3000 | Loss 0.4008 Acc. 0.8705 | LR 0.000552283\n",
      "Step 400/3000 | Loss 0.3986 Acc. 0.8717 | LR 0.000548562\n",
      "Step 600/3000 | Loss 0.3990 Acc. 0.8713 | LR 0.000544838\n",
      "Step 800/3000 | Loss 0.3934 Acc. 0.8736 | LR 0.000541112\n",
      "Step 1000/3000 | Loss 0.3900 Acc. 0.8747 | LR 0.000537384\n",
      "Step 1200/3000 | Loss 0.3863 Acc. 0.8757 | LR 0.000533653\n",
      "Val loss decreased from 0.428 to 0.405. Lr 0.000529921\n",
      "Val Acc increased from 0.863 to 0.871. Lr 0.000529921\n",
      "Step 1400/3000 | Loss 0.3875 Acc. 0.8755 | Val_Loss 0.4052 Val_Acc 0.8713 | LR 0.000529921\n",
      "Step 1600/3000 | Loss 0.3868 Acc. 0.8755 | LR 0.000526187\n",
      "Step 1800/3000 | Loss 0.3786 Acc. 0.8779 | LR 0.000522451\n",
      "Step 2000/3000 | Loss 0.3839 Acc. 0.8763 | LR 0.000518714\n",
      "Step 2200/3000 | Loss 0.3798 Acc. 0.8781 | LR 0.000514976\n",
      "Step 2400/3000 | Loss 0.3748 Acc. 0.8791 | LR 0.000511238\n",
      "Step 2600/3000 | Loss 0.3806 Acc. 0.8778 | LR 0.000507498\n",
      "Step 2800/3000 | Loss 0.3727 Acc. 0.8801 | LR 0.000503759\n",
      "Val loss decreased from 0.405 to 0.392. Lr 0.000500019\n",
      "Val Acc increased from 0.871 to 0.875. Lr 0.000500019\n",
      "Step 3000/3000 | Loss 0.3727 Acc. 0.8800 | Val_Loss 0.3919 Val_Acc 0.8753 | LR 0.000500019\n",
      "Epoch 14 Loss 0.386\n",
      "********* EPOCH 15 *****************\n",
      "Step 200/3000 | Loss 0.3736 Acc. 0.88 | LR 0.000496279\n",
      "Step 400/3000 | Loss 0.3708 Acc. 0.8808 | LR 0.000492539\n",
      "Step 600/3000 | Loss 0.3682 Acc. 0.8816 | LR 0.0004888\n",
      "Step 800/3000 | Loss 0.3686 Acc. 0.8817 | LR 0.000485061\n",
      "Step 1000/3000 | Loss 0.3651 Acc. 0.8826 | LR 0.000481323\n",
      "Step 1200/3000 | Loss 0.3618 Acc. 0.8833 | LR 0.000477586\n",
      "Val loss decreased from 0.392 to 0.387. Lr 0.000473851\n",
      "Val Acc increased from 0.875 to 0.876. Lr 0.000473851\n",
      "Step 1400/3000 | Loss 0.3635 Acc. 0.8832 | Val_Loss 0.3869 Val_Acc 0.8765 | LR 0.000473851\n",
      "Step 1600/3000 | Loss 0.3605 Acc. 0.8845 | LR 0.000470117\n",
      "Step 1800/3000 | Loss 0.3570 Acc. 0.885 | LR 0.000466384\n",
      "Step 2000/3000 | Loss 0.3584 Acc. 0.885 | LR 0.000462654\n",
      "Step 2200/3000 | Loss 0.3530 Acc. 0.887 | LR 0.000458925\n",
      "Step 2400/3000 | Loss 0.3507 Acc. 0.8869 | LR 0.000455199\n",
      "Step 2600/3000 | Loss 0.3554 Acc. 0.8859 | LR 0.000451475\n",
      "Step 2800/3000 | Loss 0.3516 Acc. 0.8873 | LR 0.000447754\n",
      "Val loss decreased from 0.387 to 0.378. Lr 0.000444036\n",
      "Val Acc increased from 0.876 to 0.881. Lr 0.000444036\n",
      "Step 3000/3000 | Loss 0.3476 Acc. 0.8882 | Val_Loss 0.3778 Val_Acc 0.8806 | LR 0.000444036\n",
      "Epoch 15 Loss 0.36\n",
      "********* EPOCH 16 *****************\n",
      "Step 200/3000 | Loss 0.3498 Acc. 0.8874 | LR 0.000440321\n",
      "Step 400/3000 | Loss 0.3447 Acc. 0.8891 | LR 0.00043661\n",
      "Step 600/3000 | Loss 0.3435 Acc. 0.8894 | LR 0.000432902\n",
      "Step 800/3000 | Loss 0.3444 Acc. 0.8899 | LR 0.000429198\n",
      "Step 1000/3000 | Loss 0.3404 Acc. 0.8904 | LR 0.000425497\n",
      "Step 1200/3000 | Loss 0.3344 Acc. 0.8925 | LR 0.000421801\n",
      "Val loss decreased from 0.378 to 0.371. Lr 0.000418109\n",
      "Val Acc increased from 0.881 to 0.883. Lr 0.000418109\n",
      "Step 1400/3000 | Loss 0.3412 Acc. 0.8904 | Val_Loss 0.3707 Val_Acc 0.8828 | LR 0.000418109\n",
      "Step 1600/3000 | Loss 0.3371 Acc. 0.8915 | LR 0.000414422\n",
      "Step 1800/3000 | Loss 0.3329 Acc. 0.8932 | LR 0.00041074\n",
      "Step 2000/3000 | Loss 0.3359 Acc. 0.8924 | LR 0.000407063\n",
      "Step 2200/3000 | Loss 0.3285 Acc. 0.8947 | LR 0.00040339\n",
      "Step 2400/3000 | Loss 0.3313 Acc. 0.8936 | LR 0.000399724\n",
      "Step 2600/3000 | Loss 0.3292 Acc. 0.8941 | LR 0.000396062\n",
      "Step 2800/3000 | Loss 0.3310 Acc. 0.894 | LR 0.000392407\n",
      "Val loss decreased from 0.371 to 0.363. Lr 0.000388758\n",
      "Val Acc increased from 0.883 to 0.886. Lr 0.000388758\n",
      "Step 3000/3000 | Loss 0.3244 Acc. 0.8956 | Val_Loss 0.3633 Val_Acc 0.8863 | LR 0.000388758\n",
      "Epoch 16 Loss 0.337\n",
      "********* EPOCH 17 *****************\n",
      "Step 200/3000 | Loss 0.3288 Acc. 0.8945 | LR 0.000385115\n",
      "Step 400/3000 | Loss 0.3232 Acc. 0.8964 | LR 0.000381478\n",
      "Step 600/3000 | Loss 0.3230 Acc. 0.8964 | LR 0.000377848\n",
      "Step 800/3000 | Loss 0.3200 Acc. 0.8975 | LR 0.000374225\n",
      "Step 1000/3000 | Loss 0.3178 Acc. 0.8979 | LR 0.000370609\n",
      "Step 1200/3000 | Loss 0.3127 Acc. 0.8993 | LR 0.000367\n",
      "Val loss decreased from 0.363 to 0.357. Lr 0.000363398\n",
      "Val Acc increased from 0.886 to 0.890. Lr 0.000363398\n",
      "Step 1400/3000 | Loss 0.3202 Acc. 0.8972 | Val_Loss 0.3571 Val_Acc 0.8899 | LR 0.000363398\n",
      "Step 1600/3000 | Loss 0.3142 Acc. 0.8992 | LR 0.000359804\n",
      "Step 1800/3000 | Loss 0.3123 Acc. 0.9001 | LR 0.000356218\n",
      "Step 2000/3000 | Loss 0.3131 Acc. 0.8997 | LR 0.00035264\n",
      "Step 2200/3000 | Loss 0.3102 Acc. 0.9003 | LR 0.000349071\n",
      "Step 2400/3000 | Loss 0.3082 Acc. 0.9012 | LR 0.000345509\n",
      "Step 2600/3000 | Loss 0.3090 Acc. 0.9008 | LR 0.000341957\n",
      "Step 2800/3000 | Loss 0.3063 Acc. 0.9019 | LR 0.000338413\n",
      "Val loss decreased from 0.357 to 0.343. Lr 0.000334878\n",
      "Val Acc increased from 0.890 to 0.893. Lr 0.000334878\n",
      "Step 3000/3000 | Loss 0.3046 Acc. 0.9023 | Val_Loss 0.3427 Val_Acc 0.8926 | LR 0.000334878\n",
      "Epoch 17 Loss 0.315\n",
      "********* EPOCH 18 *****************\n",
      "Step 200/3000 | Loss 0.3078 Acc. 0.9011 | LR 0.000331353\n",
      "Step 400/3000 | Loss 0.3044 Acc. 0.9023 | LR 0.000327837\n",
      "Step 600/3000 | Loss 0.3015 Acc. 0.9032 | LR 0.00032433\n",
      "Step 800/3000 | Loss 0.3020 Acc. 0.9033 | LR 0.000320833\n",
      "Step 1000/3000 | Loss 0.3008 Acc. 0.9036 | LR 0.000317347\n",
      "Step 1200/3000 | Loss 0.2955 Acc. 0.9051 | LR 0.000313871\n",
      "Val Acc increased from 0.893 to 0.894. Lr 0.000310405\n",
      "Step 1400/3000 | Loss 0.2973 Acc. 0.9045 | Val_Loss 0.3454 Val_Acc 0.8945 | LR 0.000310405\n",
      "Step 1600/3000 | Loss 0.2950 Acc. 0.9052 | LR 0.000306949\n",
      "Step 1800/3000 | Loss 0.2923 Acc. 0.9063 | LR 0.000303505\n",
      "Step 2000/3000 | Loss 0.2948 Acc. 0.9058 | LR 0.000300071\n",
      "Step 2200/3000 | Loss 0.2893 Acc. 0.9072 | LR 0.000296649\n",
      "Step 2400/3000 | Loss 0.2877 Acc. 0.9075 | LR 0.000293238\n",
      "Step 2600/3000 | Loss 0.2898 Acc. 0.9069 | LR 0.000289838\n",
      "Step 2800/3000 | Loss 0.2842 Acc. 0.9088 | LR 0.000286451\n",
      "Val loss decreased from 0.343 to 0.331. Lr 0.000283075\n",
      "Val Acc increased from 0.894 to 0.897. Lr 0.000283075\n",
      "Step 3000/3000 | Loss 0.2876 Acc. 0.9078 | Val_Loss 0.3308 Val_Acc 0.8973 | LR 0.000283075\n",
      "Epoch 18 Loss 0.295\n",
      "********* EPOCH 19 *****************\n",
      "Step 200/3000 | Loss 0.2913 Acc. 0.906 | LR 0.000279711\n",
      "Step 400/3000 | Loss 0.2842 Acc. 0.9087 | LR 0.00027636\n",
      "Step 600/3000 | Loss 0.2813 Acc. 0.9094 | LR 0.000273021\n",
      "Step 800/3000 | Loss 0.2819 Acc. 0.9096 | LR 0.000269695\n",
      "Step 1000/3000 | Loss 0.2778 Acc. 0.9106 | LR 0.000266382\n",
      "Step 1200/3000 | Loss 0.2759 Acc. 0.9115 | LR 0.000263082\n",
      "Val loss decreased from 0.331 to 0.330. Lr 0.000259795\n",
      "Val Acc increased from 0.897 to 0.899. Lr 0.000259795\n",
      "Step 1400/3000 | Loss 0.2784 Acc. 0.9104 | Val_Loss 0.3304 Val_Acc 0.8988 | LR 0.000259795\n",
      "Step 1600/3000 | Loss 0.2761 Acc. 0.9113 | LR 0.000256522\n",
      "Step 1800/3000 | Loss 0.2734 Acc. 0.9121 | LR 0.000253262\n",
      "Step 2000/3000 | Loss 0.2754 Acc. 0.9117 | LR 0.000250016\n",
      "Step 2200/3000 | Loss 0.2718 Acc. 0.9126 | LR 0.000246784\n",
      "Step 2400/3000 | Loss 0.2716 Acc. 0.9128 | LR 0.000243566\n",
      "Step 2600/3000 | Loss 0.2730 Acc. 0.9123 | LR 0.000240363\n",
      "Step 2800/3000 | Loss 0.2699 Acc. 0.9134 | LR 0.000237174\n",
      "Val loss decreased from 0.330 to 0.316. Lr 0.000234\n",
      "Val Acc increased from 0.899 to 0.902. Lr 0.000234\n",
      "Step 3000/3000 | Loss 0.2722 Acc. 0.9124 | Val_Loss 0.3155 Val_Acc 0.9016 | LR 0.000234\n",
      "Epoch 19 Loss 0.277\n",
      "********* EPOCH 20 *****************\n",
      "Step 200/3000 | Loss 0.2706 Acc. 0.9124 | LR 0.00023084\n",
      "Step 400/3000 | Loss 0.2646 Acc. 0.9146 | LR 0.000227696\n",
      "Step 600/3000 | Loss 0.2644 Acc. 0.9148 | LR 0.000224567\n",
      "Step 800/3000 | Loss 0.2636 Acc. 0.9151 | LR 0.000221453\n",
      "Step 1000/3000 | Loss 0.2629 Acc. 0.9153 | LR 0.000218355\n",
      "Step 1200/3000 | Loss 0.2576 Acc. 0.9168 | LR 0.000215273\n",
      "Val loss decreased from 0.316 to 0.313. Lr 0.000212207\n",
      "Val Acc increased from 0.902 to 0.904. Lr 0.000212207\n",
      "Step 1400/3000 | Loss 0.2627 Acc. 0.9156 | Val_Loss 0.3127 Val_Acc 0.9042 | LR 0.000212207\n",
      "Step 1600/3000 | Loss 0.2596 Acc. 0.9165 | LR 0.000209156\n",
      "Step 1800/3000 | Loss 0.2607 Acc. 0.9163 | LR 0.000206123\n",
      "Step 2000/3000 | Loss 0.2585 Acc. 0.9169 | LR 0.000203105\n",
      "Step 2200/3000 | Loss 0.2538 Acc. 0.9182 | LR 0.000200104\n",
      "Step 2400/3000 | Loss 0.2574 Acc. 0.9173 | LR 0.00019712\n",
      "Step 2600/3000 | Loss 0.2539 Acc. 0.9181 | LR 0.000194153\n",
      "Step 2800/3000 | Loss 0.2529 Acc. 0.9183 | LR 0.000191203\n",
      "Val loss decreased from 0.313 to 0.303. Lr 0.00018827\n",
      "Val Acc increased from 0.904 to 0.906. Lr 0.00018827\n",
      "Step 3000/3000 | Loss 0.2537 Acc. 0.9183 | Val_Loss 0.3034 Val_Acc 0.906 | LR 0.00018827\n",
      "Epoch 20 Loss 0.26\n",
      "********* EPOCH 21 *****************\n",
      "Step 200/3000 | Loss 0.2550 Acc. 0.9174 | LR 0.000185354\n",
      "Step 400/3000 | Loss 0.2493 Acc. 0.9195 | LR 0.000182457\n",
      "Step 600/3000 | Loss 0.2484 Acc. 0.9197 | LR 0.000179577\n",
      "Step 800/3000 | Loss 0.2477 Acc. 0.9199 | LR 0.000176714\n",
      "Step 1000/3000 | Loss 0.2475 Acc. 0.9201 | LR 0.00017387\n",
      "Step 1200/3000 | Loss 0.2449 Acc. 0.9208 | LR 0.000171045\n",
      "Step 1400/3000 | Loss 0.2486 Acc. 0.9198 | Val_Loss 0.3199 Val_Acc 0.9039 | LR 0.000168237\n",
      "Step 1600/3000 | Loss 0.2469 Acc. 0.9204 | LR 0.000165449\n",
      "Step 1800/3000 | Loss 0.2444 Acc. 0.9214 | LR 0.000162679\n",
      "Step 2000/3000 | Loss 0.2460 Acc. 0.921 | LR 0.000159927\n",
      "Step 2200/3000 | Loss 0.2403 Acc. 0.9222 | LR 0.000157195\n",
      "Step 2400/3000 | Loss 0.2421 Acc. 0.9215 | LR 0.000154482\n",
      "Step 2600/3000 | Loss 0.2413 Acc. 0.9223 | LR 0.000151789\n",
      "Step 2800/3000 | Loss 0.2391 Acc. 0.9228 | LR 0.000149114\n",
      "Val Acc increased from 0.906 to 0.908. Lr 0.00014646\n",
      "Step 3000/3000 | Loss 0.2408 Acc. 0.9223 | Val_Loss 0.3037 Val_Acc 0.9082 | LR 0.00014646\n",
      "Epoch 21 Loss 0.245\n",
      "********* EPOCH 22 *****************\n",
      "Step 200/3000 | Loss 0.2409 Acc. 0.9219 | LR 0.000143825\n",
      "Step 400/3000 | Loss 0.2361 Acc. 0.9237 | LR 0.00014121\n",
      "Step 600/3000 | Loss 0.2346 Acc. 0.924 | LR 0.000138615\n",
      "Step 800/3000 | Loss 0.2344 Acc. 0.9242 | LR 0.000136041\n",
      "Step 1000/3000 | Loss 0.2358 Acc. 0.9237 | LR 0.000133487\n",
      "Step 1200/3000 | Loss 0.2300 Acc. 0.9252 | LR 0.000130953\n",
      "Val loss decreased from 0.303 to 0.297. Lr 0.00012844\n",
      "Val Acc increased from 0.908 to 0.911. Lr 0.00012844\n",
      "Step 1400/3000 | Loss 0.2380 Acc. 0.9231 | Val_Loss 0.2974 Val_Acc 0.9105 | LR 0.00012844\n",
      "Step 1600/3000 | Loss 0.2326 Acc. 0.9247 | LR 0.000125948\n",
      "Step 1800/3000 | Loss 0.2306 Acc. 0.9255 | LR 0.000123477\n",
      "Step 2000/3000 | Loss 0.2322 Acc. 0.925 | LR 0.000121026\n",
      "Step 2200/3000 | Loss 0.2264 Acc. 0.9265 | LR 0.000118597\n",
      "Step 2400/3000 | Loss 0.2278 Acc. 0.9262 | LR 0.00011619\n",
      "Step 2600/3000 | Loss 0.2268 Acc. 0.9264 | LR 0.000113803\n",
      "Step 2800/3000 | Loss 0.2267 Acc. 0.9264 | LR 0.000111439\n",
      "Val loss decreased from 0.297 to 0.292. Lr 0.000109096\n",
      "Val Acc increased from 0.911 to 0.912. Lr 0.000109096\n",
      "Step 3000/3000 | Loss 0.2296 Acc. 0.9257 | Val_Loss 0.2922 Val_Acc 0.9117 | LR 0.000109096\n",
      "Epoch 22 Loss 0.232\n",
      "********* EPOCH 23 *****************\n",
      "Step 200/3000 | Loss 0.2283 Acc. 0.9256 | LR 0.000106775\n",
      "Step 400/3000 | Loss 0.2255 Acc. 0.9269 | LR 0.000104476\n",
      "Step 600/3000 | Loss 0.2237 Acc. 0.9275 | LR 0.000102199\n",
      "Step 800/3000 | Loss 0.2244 Acc. 0.927 | LR 9.99444e-05\n",
      "Step 1000/3000 | Loss 0.2240 Acc. 0.927 | LR 9.77122e-05\n",
      "Step 1200/3000 | Loss 0.2206 Acc. 0.9284 | LR 9.55025e-05\n",
      "Val Acc increased from 0.912 to 0.913. Lr 9.33154e-05\n",
      "Step 1400/3000 | Loss 0.2240 Acc. 0.9274 | Val_Loss 0.2934 Val_Acc 0.9126 | LR 9.33154e-05\n",
      "Step 1600/3000 | Loss 0.2215 Acc. 0.9281 | LR 9.11511e-05\n",
      "Step 1800/3000 | Loss 0.2209 Acc. 0.9286 | LR 8.90096e-05\n",
      "Step 2000/3000 | Loss 0.2204 Acc. 0.9287 | LR 8.68911e-05\n",
      "Step 2200/3000 | Loss 0.2177 Acc. 0.929 | LR 8.47958e-05\n",
      "Step 2400/3000 | Loss 0.2182 Acc. 0.929 | LR 8.27237e-05\n",
      "Step 2600/3000 | Loss 0.2186 Acc. 0.9289 | LR 8.06749e-05\n",
      "Step 2800/3000 | Loss 0.2180 Acc. 0.9294 | LR 7.86496e-05\n",
      "Val loss decreased from 0.292 to 0.289. Lr 7.66478e-05\n",
      "Val Acc increased from 0.913 to 0.914. Lr 7.66478e-05\n",
      "Step 3000/3000 | Loss 0.2188 Acc. 0.9292 | Val_Loss 0.2894 Val_Acc 0.9137 | LR 7.66478e-05\n",
      "Epoch 23 Loss 0.222\n",
      "********* EPOCH 24 *****************\n",
      "Step 200/3000 | Loss 0.2196 Acc. 0.9283 | LR 7.46698e-05\n",
      "Step 400/3000 | Loss 0.2150 Acc. 0.9301 | LR 7.27155e-05\n",
      "Step 600/3000 | Loss 0.2164 Acc. 0.9295 | LR 7.07852e-05\n",
      "Step 800/3000 | Loss 0.2152 Acc. 0.93 | LR 6.88789e-05\n",
      "Step 1000/3000 | Loss 0.2138 Acc. 0.9301 | LR 6.69966e-05\n",
      "Step 1200/3000 | Loss 0.2118 Acc. 0.9309 | LR 6.51387e-05\n",
      "Val Acc increased from 0.914 to 0.915. Lr 6.3305e-05\n",
      "Step 1400/3000 | Loss 0.2158 Acc. 0.9300 | Val_Loss 0.2905 Val_Acc 0.9148 | LR 6.3305e-05\n",
      "Step 1600/3000 | Loss 0.2146 Acc. 0.93 | LR 6.14958e-05\n",
      "Step 1800/3000 | Loss 0.2126 Acc. 0.931 | LR 5.97111e-05\n",
      "Step 2000/3000 | Loss 0.2127 Acc. 0.9309 | LR 5.7951e-05\n",
      "Step 2200/3000 | Loss 0.2088 Acc. 0.9316 | LR 5.62157e-05\n",
      "Step 2400/3000 | Loss 0.2113 Acc. 0.9311 | LR 5.45052e-05\n",
      "Step 2600/3000 | Loss 0.2110 Acc. 0.9313 | LR 5.28197e-05\n",
      "Step 2800/3000 | Loss 0.2105 Acc. 0.9315 | LR 5.11591e-05\n",
      "Val loss decreased from 0.289 to 0.286. Lr 4.95237e-05\n",
      "Val Acc increased from 0.915 to 0.915. Lr 4.95237e-05\n",
      "Step 3000/3000 | Loss 0.2116 Acc. 0.9312 | Val_Loss 0.2865 Val_Acc 0.9152 | LR 4.95237e-05\n",
      "Epoch 24 Loss 0.213\n",
      "********* EPOCH 25 *****************\n",
      "Step 200/3000 | Loss 0.2121 Acc. 0.9307 | LR 4.79134e-05\n",
      "Step 400/3000 | Loss 0.2077 Acc. 0.932 | LR 4.63285e-05\n",
      "Step 600/3000 | Loss 0.2085 Acc. 0.9319 | LR 4.4769e-05\n",
      "Step 800/3000 | Loss 0.2094 Acc. 0.9316 | LR 4.32349e-05\n",
      "Step 1000/3000 | Loss 0.2069 Acc. 0.9322 | LR 4.17264e-05\n",
      "Step 1200/3000 | Loss 0.2046 Acc. 0.933 | LR 4.02435e-05\n",
      "Val Acc increased from 0.915 to 0.916. Lr 3.87863e-05\n",
      "Step 1400/3000 | Loss 0.2072 Acc. 0.9322 | Val_Loss 0.2866 Val_Acc 0.9163 | LR 3.87863e-05\n",
      "Step 1600/3000 | Loss 0.2075 Acc. 0.9322 | LR 3.73549e-05\n",
      "Step 1800/3000 | Loss 0.2074 Acc. 0.9328 | LR 3.59495e-05\n",
      "Step 2000/3000 | Loss 0.2065 Acc. 0.9326 | LR 3.457e-05\n",
      "Step 2200/3000 | Loss 0.2025 Acc. 0.9339 | LR 3.32165e-05\n",
      "Step 2400/3000 | Loss 0.2065 Acc. 0.9324 | LR 3.18891e-05\n",
      "Step 2600/3000 | Loss 0.2067 Acc. 0.9327 | LR 3.0588e-05\n",
      "Step 2800/3000 | Loss 0.2036 Acc. 0.9333 | LR 2.93131e-05\n",
      "Val loss decreased from 0.286 to 0.286. Lr 2.80645e-05\n",
      "Val Acc increased from 0.916 to 0.917. Lr 2.80645e-05\n",
      "Step 3000/3000 | Loss 0.2065 Acc. 0.9329 | Val_Loss 0.2856 Val_Acc 0.9166 | LR 2.80645e-05\n",
      "Epoch 25 Loss 0.207\n",
      "********* EPOCH 26 *****************\n",
      "Step 200/3000 | Loss 0.2067 Acc. 0.932 | LR 2.68424e-05\n",
      "Step 400/3000 | Loss 0.2024 Acc. 0.9337 | LR 2.56467e-05\n",
      "Step 600/3000 | Loss 0.2052 Acc. 0.933 | LR 2.44775e-05\n",
      "Step 800/3000 | Loss 0.2026 Acc. 0.9334 | LR 2.3335e-05\n",
      "Step 1000/3000 | Loss 0.2028 Acc. 0.9338 | LR 2.22191e-05\n",
      "Step 1200/3000 | Loss 0.2005 Acc. 0.9343 | LR 2.113e-05\n",
      "Val Acc increased from 0.917 to 0.917. Lr 2.00676e-05\n",
      "Step 1400/3000 | Loss 0.2060 Acc. 0.9326 | Val_Loss 0.2867 Val_Acc 0.9168 | LR 2.00676e-05\n",
      "Step 1600/3000 | Loss 0.2025 Acc. 0.9338 | LR 1.90321e-05\n",
      "Step 1800/3000 | Loss 0.2020 Acc. 0.934 | LR 1.80235e-05\n",
      "Step 2000/3000 | Loss 0.2005 Acc. 0.9343 | LR 1.70419e-05\n",
      "Step 2200/3000 | Loss 0.2007 Acc. 0.9342 | LR 1.60873e-05\n",
      "Step 2400/3000 | Loss 0.2010 Acc. 0.9341 | LR 1.51598e-05\n",
      "Step 2600/3000 | Loss 0.2016 Acc. 0.9339 | LR 1.42594e-05\n",
      "Step 2800/3000 | Loss 0.2006 Acc. 0.9343 | LR 1.33862e-05\n",
      "Val Acc increased from 0.917 to 0.917. Lr 1.25402e-05\n",
      "Step 3000/3000 | Loss 0.2025 Acc. 0.9340 | Val_Loss 0.2868 Val_Acc 0.9171 | LR 1.25402e-05\n",
      "Epoch 26 Loss 0.202\n",
      "********* EPOCH 27 *****************\n",
      "Step 200/3000 | Loss 0.2037 Acc. 0.9329 | LR 1.17215e-05\n",
      "Step 400/3000 | Loss 0.2006 Acc. 0.9343 | LR 1.09301e-05\n",
      "Step 600/3000 | Loss 0.2001 Acc. 0.9344 | LR 1.01661e-05\n",
      "Step 800/3000 | Loss 0.2010 Acc. 0.9341 | LR 9.42942e-06\n",
      "Step 1000/3000 | Loss 0.1996 Acc. 0.9345 | LR 8.72024e-06\n",
      "Step 1200/3000 | Loss 0.1978 Acc. 0.9349 | LR 8.03855e-06\n",
      "Val Acc increased from 0.917 to 0.917. Lr 7.38438e-06\n",
      "Step 1400/3000 | Loss 0.2028 Acc. 0.9336 | Val_Loss 0.2870 Val_Acc 0.9172 | LR 7.38438e-06\n",
      "Step 1600/3000 | Loss 0.1997 Acc. 0.9345 | LR 6.75777e-06\n",
      "Step 1800/3000 | Loss 0.1980 Acc. 0.9352 | LR 6.15876e-06\n",
      "Step 2000/3000 | Loss 0.2010 Acc. 0.9344 | LR 5.58737e-06\n",
      "Step 2200/3000 | Loss 0.1953 Acc. 0.9357 | LR 5.04366e-06\n",
      "Step 2400/3000 | Loss 0.1985 Acc. 0.9349 | LR 4.52763e-06\n",
      "Step 2600/3000 | Loss 0.1997 Acc. 0.9344 | LR 4.03933e-06\n",
      "Step 2800/3000 | Loss 0.2007 Acc. 0.9343 | LR 3.57877e-06\n",
      "Val loss decreased from 0.286 to 0.286. Lr 3.14599e-06\n",
      "Val Acc increased from 0.917 to 0.917. Lr 3.14599e-06\n",
      "Step 3000/3000 | Loss 0.1999 Acc. 0.9346 | Val_Loss 0.2855 Val_Acc 0.9174 | LR 3.14599e-06\n",
      "Epoch 27 Loss 0.2\n",
      "********* EPOCH 28 *****************\n",
      "Step 200/3000 | Loss 0.2015 Acc. 0.9335 | LR 2.74101e-06\n",
      "Step 400/3000 | Loss 0.1985 Acc. 0.9348 | LR 2.36385e-06\n",
      "Step 600/3000 | Loss 0.1995 Acc. 0.9346 | LR 2.01453e-06\n",
      "Step 800/3000 | Loss 0.1974 Acc. 0.9349 | LR 1.69307e-06\n",
      "Step 1000/3000 | Loss 0.1989 Acc. 0.9347 | LR 1.3995e-06\n",
      "Step 1200/3000 | Loss 0.1976 Acc. 0.9349 | LR 1.13382e-06\n",
      "Val Acc increased from 0.917 to 0.918. Lr 8.96054e-07\n",
      "Step 1400/3000 | Loss 0.2006 Acc. 0.9344 | Val_Loss 0.2860 Val_Acc 0.9176 | LR 8.96054e-07\n",
      "Step 1600/3000 | Loss 0.1999 Acc. 0.9346 | LR 6.86212e-07\n",
      "Step 1800/3000 | Loss 0.1983 Acc. 0.9351 | LR 5.04306e-07\n",
      "Step 2000/3000 | Loss 0.1993 Acc. 0.9348 | LR 3.50347e-07\n",
      "Step 2200/3000 | Loss 0.1964 Acc. 0.9354 | LR 2.24344e-07\n",
      "Step 2400/3000 | Loss 0.1987 Acc. 0.9349 | LR 1.26302e-07\n",
      "Step 2600/3000 | Loss 0.1982 Acc. 0.9349 | LR 5.62292e-08\n",
      "Step 2800/3000 | Loss 0.1984 Acc. 0.935 | LR 1.41277e-08\n",
      "Val Acc increased from 0.918 to 0.918. Lr 3.49688e-13\n",
      "Step 3000/3000 | Loss 0.2021 Acc. 0.9340 | Val_Loss 0.2856 Val_Acc 0.9176 | LR 3.49688e-13\n",
      "Epoch 28 Loss 0.199\n"
     ]
    }
   ],
   "source": [
    "step_total = 0\n",
    "final_val_loss= 1e2\n",
    "final_val_acc= 0.4\n",
    "erly_stop=0\n",
    "T_loss, T_acc=[], []\n",
    "V_loss, V_acc=[], []\n",
    "init_lr= 0.001\n",
    " \n",
    "for epoch in range(EPOCHS):\n",
    "    print(f'********* EPOCH {epoch + 1} *****************')\n",
    "    total_loss = 0\n",
    "    # create distributed versions of dataset\n",
    "    train_dist_dataset = iter(strategy.experimental_distribute_dataset(train_dataset))\n",
    "    val_dist_dataset = iter(strategy.experimental_distribute_dataset(val_dataset))\n",
    "    \n",
    "    \n",
    "    for step in range(1, STEPS_PER_EPOCH + 1):\n",
    "        try:\n",
    "            stepv2= epoch * TRAIN_STEPS + step * VERBOSE_FREQ - 1\n",
    "            init_lr= LR_schedule(stepv2)\n",
    "            # train step\n",
    "            distributed_train_step(train_dist_dataset)\n",
    "            total_loss+= (train_loss.result().numpy())\n",
    "            T_loss.append(train_loss.result().numpy()/(VERBOSE_FREQ))\n",
    "            T_acc.append(train_accuracy.result().numpy())\n",
    "\n",
    "            if ((step*VERBOSE_FREQ)%1500==0) or ((step*VERBOSE_FREQ)== 1400):\n",
    "                targ, predictions_seq, loss = val_metrics(val_dist_dataset)\n",
    "                V_loss.append(loss)\n",
    "                V_acc.append(val_accuracy.result().numpy())\n",
    "                final_val_loss= log(final_val_loss)\n",
    "                final_val_acc= log2(final_val_acc)\n",
    "                print('Step {}/{} | Loss {:.4f} Acc. {:.4f} | Val_Loss {:.4f} Val_Acc {:.4} | LR {:.6}'.format(\n",
    "                                     step*VERBOSE_FREQ, TRAIN_STEPS, train_loss.result().numpy()/(VERBOSE_FREQ),\n",
    "                                     train_accuracy.result().numpy(), val_loss.result().numpy()/(VAL_STEPS),\n",
    "                                     val_accuracy.result().numpy(), init_lr))\n",
    "\n",
    "            else:\n",
    "                print('Step {}/{} | Loss {:.4f} Acc. {:.4} | LR {:.6}'.format(step*VERBOSE_FREQ, TRAIN_STEPS,\n",
    "                     train_loss.result().numpy()/(VERBOSE_FREQ), train_accuracy.result().numpy(), init_lr))\n",
    "        except:\n",
    "            print('Nan Value Encountered !!!')\n",
    "    \n",
    "    print(f'Epoch {epoch+1} Loss {round(total_loss/(TRAIN_STEPS), 3)}')"
   ]
  },
  {
   "cell_type": "code",
   "execution_count": 27,
   "metadata": {
    "execution": {
     "iopub.execute_input": "2021-05-10T11:39:51.165329Z",
     "iopub.status.busy": "2021-05-10T11:39:51.164563Z",
     "iopub.status.idle": "2021-05-10T11:39:51.409328Z",
     "shell.execute_reply": "2021-05-10T11:39:51.408786Z"
    },
    "papermill": {
     "duration": 0.481961,
     "end_time": "2021-05-10T11:39:51.409491",
     "exception": false,
     "start_time": "2021-05-10T11:39:50.927530",
     "status": "completed"
    },
    "tags": []
   },
   "outputs": [
    {
     "data": {
      "image/png": "[encoded data removed]",
      "text/plain": [
       "<Figure size 864x432 with 1 Axes>"
      ]
     },
     "metadata": {
      "needs_background": "light"
     },
     "output_type": "display_data"
    }
   ],
   "source": [
    "plt.figure(figsize = (12, 6))\n",
    "plt.xlabel(\"Train Steps\")\n",
    "plt.ylabel(\"Loss\")\n",
    "plt.plot( T_acc, label = \"Training Acc.\", marker='o')\n",
    "plt.plot( V_acc, label = \"Validation Acc.\", marker='o', color='orange')\n",
    "plt.grid(True)\n",
    "plt.legend()\n",
    "plt.show()"
   ]
  },
  {
   "cell_type": "code",
   "execution_count": 28,
   "metadata": {
    "execution": {
     "iopub.execute_input": "2021-05-10T11:39:51.829031Z",
     "iopub.status.busy": "2021-05-10T11:39:51.827822Z",
     "iopub.status.idle": "2021-05-10T11:39:51.993833Z",
     "shell.execute_reply": "2021-05-10T11:39:51.992934Z"
    },
    "papermill": {
     "duration": 0.388359,
     "end_time": "2021-05-10T11:39:51.994058",
     "exception": false,
     "start_time": "2021-05-10T11:39:51.605699",
     "status": "completed"
    },
    "tags": []
   },
   "outputs": [
    {
     "data": {
      "image/png": "[encoded data removed]",
      "text/plain": [
       "<Figure size 864x432 with 1 Axes>"
      ]
     },
     "metadata": {
      "needs_background": "light"
     },
     "output_type": "display_data"
    }
   ],
   "source": [
    "plt.figure(figsize = (12, 6))\n",
    "plt.xlabel(\"Train Steps\")\n",
    "plt.ylabel(\"Loss\")\n",
    "plt.plot( V_acc, label = \"Validation Acc.\", marker='o', color='orange')\n",
    "plt.grid(True)\n",
    "plt.legend()\n",
    "plt.show()"
   ]
  },
  {
   "cell_type": "code",
   "execution_count": 29,
   "metadata": {
    "execution": {
     "iopub.execute_input": "2021-05-10T11:39:52.491490Z",
     "iopub.status.busy": "2021-05-10T11:39:52.461739Z",
     "iopub.status.idle": "2021-05-10T11:39:52.626035Z",
     "shell.execute_reply": "2021-05-10T11:39:52.625339Z"
    },
    "id": "differential-gauge",
    "papermill": {
     "duration": 0.423583,
     "end_time": "2021-05-10T11:39:52.626178",
     "exception": false,
     "start_time": "2021-05-10T11:39:52.202595",
     "status": "completed"
    },
    "tags": []
   },
   "outputs": [
    {
     "data": {
      "image/png": "[encoded data removed]",
      "text/plain": [
       "<Figure size 864x432 with 1 Axes>"
      ]
     },
     "metadata": {
      "needs_background": "light"
     },
     "output_type": "display_data"
    }
   ],
   "source": [
    "plt.figure(figsize = (12, 6))\n",
    "plt.xlabel(\"Train Steps\")\n",
    "plt.ylabel(\"Loss\")\n",
    "plt.plot( T_loss, label = \"Training Loss\", marker='.')\n",
    "plt.plot( V_loss, label = \"Validation Loss\", marker='+', color='orange')\n",
    "plt.grid(True)\n",
    "plt.legend()\n",
    "plt.show()"
   ]
  },
  {
   "cell_type": "code",
   "execution_count": 30,
   "metadata": {
    "execution": {
     "iopub.execute_input": "2021-05-10T11:39:53.069915Z",
     "iopub.status.busy": "2021-05-10T11:39:53.067654Z",
     "iopub.status.idle": "2021-05-10T11:39:53.190149Z",
     "shell.execute_reply": "2021-05-10T11:39:53.190629Z"
    },
    "id": "flying-legislature",
    "papermill": {
     "duration": 0.369226,
     "end_time": "2021-05-10T11:39:53.190806",
     "exception": false,
     "start_time": "2021-05-10T11:39:52.821580",
     "status": "completed"
    },
    "tags": []
   },
   "outputs": [
    {
     "data": {
      "image/png": "[encoded data removed]",
      "text/plain": [
       "<Figure size 864x432 with 1 Axes>"
      ]
     },
     "metadata": {
      "needs_background": "light"
     },
     "output_type": "display_data"
    }
   ],
   "source": [
    "plt.figure(figsize = (12, 6))\n",
    "plt.xlabel(\"Val Steps\")\n",
    "plt.ylabel(\"Loss\")\n",
    "plt.plot( V_loss, label = \"Validation Loss\", marker='o', color='orange')\n",
    "plt.grid(True)\n",
    "plt.legend()\n",
    "plt.show()"
   ]
  },
  {
   "cell_type": "code",
   "execution_count": null,
   "metadata": {
    "papermill": {
     "duration": 0.198995,
     "end_time": "2021-05-10T11:39:53.586816",
     "exception": false,
     "start_time": "2021-05-10T11:39:53.387821",
     "status": "completed"
    },
    "tags": []
   },
   "outputs": [],
   "source": []
  }
 ],
 "metadata": {
  "kernelspec": {
   "display_name": "Python 3",
   "language": "python",
   "name": "python3"
  },
  "language_info": {
   "codemirror_mode": {
    "name": "ipython",
    "version": 3
   },
   "file_extension": ".py",
   "mimetype": "text/x-python",
   "name": "python",
   "nbconvert_exporter": "python",
   "pygments_lexer": "ipython3",
   "version": "3.8.3"
  },
  "papermill": {
   "default_parameters": {},
   "duration": 31087.689687,
   "end_time": "2021-05-10T11:39:56.606335",
   "environment_variables": {},
   "exception": null,
   "input_path": "__notebook__.ipynb",
   "output_path": "__notebook__.ipynb",
   "parameters": {},
   "start_time": "2021-05-10T03:01:48.916648",
   "version": "2.3.3"
  }
 },
 "nbformat": 4,
 "nbformat_minor": 5
}
